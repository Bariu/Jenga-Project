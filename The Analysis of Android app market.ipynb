{
 "cells": [
  {
   "cell_type": "markdown",
   "metadata": {},
   "source": [
    "# 1. Defining The Goal"
   ]
  },
  {
   "cell_type": "markdown",
   "metadata": {},
   "source": [
    "Mobile apps are everywhere. They are easy to create and can be lucrative. Because of these two factors, more and more apps are being developed. In this project, you will do a comprehensive analysis of the Android app market by comparing over ten thousand apps in Google Play across different categories. You'll look for insights in the data to devise strategies to drive growth and retention. The following are the suggested steps, to achieve the objectives of the project.\n"
   ]
  },
  {
   "cell_type": "markdown",
   "metadata": {},
   "source": [
    "1. Define the goal\n",
    "2. Get the data\n",
    "3. Clean the data\n",
    "4. Enrich the data\n",
    "5. Find insights and Visualize\n",
    "6. Iterate\n",
    "7. Report\n",
    "8. Conclusion\n"
   ]
  },
  {
   "cell_type": "markdown",
   "metadata": {},
   "source": [
    "# 2. Get the Data"
   ]
  },
  {
   "cell_type": "markdown",
   "metadata": {},
   "source": [
    "## Import the libraries"
   ]
  },
  {
   "cell_type": "code",
   "execution_count": 1,
   "metadata": {},
   "outputs": [],
   "source": [
    "import matplotlib.pyplot as plt # plotting\n",
    "import numpy as np # linear algebra\n",
    "import pandas as pd # data processing, CSV file I/O (e.g. pd.read_csv)\n",
    "import seaborn as sns\n",
    "import math\n",
    "import random\n",
    "import os\n",
    "import time\n",
    "\n"
   ]
  },
  {
   "cell_type": "code",
   "execution_count": 2,
   "metadata": {},
   "outputs": [
    {
     "name": "stdout",
     "output_type": "stream",
     "text": [
      "(50217, 9)\n"
     ]
    }
   ],
   "source": [
    "data = pd.read_csv(\"C:/Users/bariu/Desktop/Jenga-Project/Android apps.csv\")\n",
    "print(data.shape)"
   ]
  },
  {
   "cell_type": "code",
   "execution_count": 3,
   "metadata": {},
   "outputs": [
    {
     "data": {
      "text/html": [
       "<div>\n",
       "<style scoped>\n",
       "    .dataframe tbody tr th:only-of-type {\n",
       "        vertical-align: middle;\n",
       "    }\n",
       "\n",
       "    .dataframe tbody tr th {\n",
       "        vertical-align: top;\n",
       "    }\n",
       "\n",
       "    .dataframe thead th {\n",
       "        text-align: right;\n",
       "    }\n",
       "</style>\n",
       "<table border=\"1\" class=\"dataframe\">\n",
       "  <thead>\n",
       "    <tr style=\"text-align: right;\">\n",
       "      <th></th>\n",
       "      <th>basename</th>\n",
       "      <th>category</th>\n",
       "      <th>company</th>\n",
       "      <th>age_rating</th>\n",
       "      <th>Downloads</th>\n",
       "      <th>Category2</th>\n",
       "      <th>price</th>\n",
       "      <th>rating</th>\n",
       "      <th>numberreviews</th>\n",
       "    </tr>\n",
       "  </thead>\n",
       "  <tbody>\n",
       "    <tr>\n",
       "      <th>0</th>\n",
       "      <td>netflix</td>\n",
       "      <td>entertainment</td>\n",
       "      <td>netflix, inc.</td>\n",
       "      <td>no info</td>\n",
       "      <td>5.000000e+08</td>\n",
       "      <td>entertainment</td>\n",
       "      <td>free</td>\n",
       "      <td>4.5</td>\n",
       "      <td>7,287,852</td>\n",
       "    </tr>\n",
       "    <tr>\n",
       "      <th>1</th>\n",
       "      <td>facebook</td>\n",
       "      <td>communication</td>\n",
       "      <td>facebook</td>\n",
       "      <td>everyone</td>\n",
       "      <td>1.000000e+09</td>\n",
       "      <td>communication</td>\n",
       "      <td>free</td>\n",
       "      <td>4.2</td>\n",
       "      <td>69,050,158</td>\n",
       "    </tr>\n",
       "    <tr>\n",
       "      <th>2</th>\n",
       "      <td>android</td>\n",
       "      <td>communication</td>\n",
       "      <td>google llc</td>\n",
       "      <td>everyone</td>\n",
       "      <td>5.000000e+06</td>\n",
       "      <td>internet browser</td>\n",
       "      <td>free</td>\n",
       "      <td>4.3</td>\n",
       "      <td>17,065,648</td>\n",
       "    </tr>\n",
       "    <tr>\n",
       "      <th>3</th>\n",
       "      <td>google</td>\n",
       "      <td>communication</td>\n",
       "      <td>google llc</td>\n",
       "      <td>everyone</td>\n",
       "      <td>5.000000e+06</td>\n",
       "      <td>mail</td>\n",
       "      <td>free</td>\n",
       "      <td>4.4</td>\n",
       "      <td>6,272,191</td>\n",
       "    </tr>\n",
       "    <tr>\n",
       "      <th>4</th>\n",
       "      <td>grindrapp</td>\n",
       "      <td>social</td>\n",
       "      <td>grindr llc</td>\n",
       "      <td>18+</td>\n",
       "      <td>1.000000e+07</td>\n",
       "      <td>dating</td>\n",
       "      <td>free</td>\n",
       "      <td>3.5</td>\n",
       "      <td>365,432</td>\n",
       "    </tr>\n",
       "  </tbody>\n",
       "</table>\n",
       "</div>"
      ],
      "text/plain": [
       "    basename       category        company age_rating     Downloads  \\\n",
       "0    netflix  entertainment  netflix, inc.    no info  5.000000e+08   \n",
       "1   facebook  communication       facebook   everyone  1.000000e+09   \n",
       "2    android  communication     google llc   everyone  5.000000e+06   \n",
       "3     google  communication     google llc   everyone  5.000000e+06   \n",
       "4  grindrapp         social     grindr llc        18+  1.000000e+07   \n",
       "\n",
       "          Category2 price rating numberreviews  \n",
       "0     entertainment  free    4.5     7,287,852  \n",
       "1     communication  free    4.2    69,050,158  \n",
       "2  internet browser  free    4.3    17,065,648  \n",
       "3              mail  free    4.4     6,272,191  \n",
       "4            dating  free    3.5       365,432  "
      ]
     },
     "execution_count": 3,
     "metadata": {},
     "output_type": "execute_result"
    }
   ],
   "source": [
    "data.head()"
   ]
  },
  {
   "cell_type": "code",
   "execution_count": 4,
   "metadata": {},
   "outputs": [
    {
     "name": "stdout",
     "output_type": "stream",
     "text": [
      "<class 'pandas.core.frame.DataFrame'>\n",
      "RangeIndex: 50217 entries, 0 to 50216\n",
      "Data columns (total 9 columns):\n",
      " #   Column         Non-Null Count  Dtype  \n",
      "---  ------         --------------  -----  \n",
      " 0   basename       50217 non-null  object \n",
      " 1   category       50215 non-null  object \n",
      " 2   company        50215 non-null  object \n",
      " 3   age_rating     50217 non-null  object \n",
      " 4   Downloads      40816 non-null  float64\n",
      " 5   Category2      50217 non-null  object \n",
      " 6   price          49899 non-null  object \n",
      " 7   rating         49899 non-null  object \n",
      " 8   numberreviews  49899 non-null  object \n",
      "dtypes: float64(1), object(8)\n",
      "memory usage: 1.9+ MB\n"
     ]
    }
   ],
   "source": [
    "data.info()"
   ]
  },
  {
   "cell_type": "markdown",
   "metadata": {},
   "source": [
    "## 3. Clean the Data"
   ]
  },
  {
   "cell_type": "markdown",
   "metadata": {},
   "source": [
    "Lets look at the columns\n"
   ]
  },
  {
   "cell_type": "code",
   "execution_count": 5,
   "metadata": {},
   "outputs": [
    {
     "data": {
      "text/html": [
       "<div>\n",
       "<style scoped>\n",
       "    .dataframe tbody tr th:only-of-type {\n",
       "        vertical-align: middle;\n",
       "    }\n",
       "\n",
       "    .dataframe tbody tr th {\n",
       "        vertical-align: top;\n",
       "    }\n",
       "\n",
       "    .dataframe thead th {\n",
       "        text-align: right;\n",
       "    }\n",
       "</style>\n",
       "<table border=\"1\" class=\"dataframe\">\n",
       "  <thead>\n",
       "    <tr style=\"text-align: right;\">\n",
       "      <th></th>\n",
       "      <th>Total</th>\n",
       "      <th>percent</th>\n",
       "    </tr>\n",
       "  </thead>\n",
       "  <tbody>\n",
       "    <tr>\n",
       "      <th>Downloads</th>\n",
       "      <td>9401</td>\n",
       "      <td>0.187208</td>\n",
       "    </tr>\n",
       "    <tr>\n",
       "      <th>numberreviews</th>\n",
       "      <td>318</td>\n",
       "      <td>0.006333</td>\n",
       "    </tr>\n",
       "    <tr>\n",
       "      <th>rating</th>\n",
       "      <td>318</td>\n",
       "      <td>0.006333</td>\n",
       "    </tr>\n",
       "    <tr>\n",
       "      <th>price</th>\n",
       "      <td>318</td>\n",
       "      <td>0.006333</td>\n",
       "    </tr>\n",
       "    <tr>\n",
       "      <th>company</th>\n",
       "      <td>2</td>\n",
       "      <td>0.000040</td>\n",
       "    </tr>\n",
       "    <tr>\n",
       "      <th>category</th>\n",
       "      <td>2</td>\n",
       "      <td>0.000040</td>\n",
       "    </tr>\n",
       "  </tbody>\n",
       "</table>\n",
       "</div>"
      ],
      "text/plain": [
       "               Total   percent\n",
       "Downloads       9401  0.187208\n",
       "numberreviews    318  0.006333\n",
       "rating           318  0.006333\n",
       "price            318  0.006333\n",
       "company            2  0.000040\n",
       "category           2  0.000040"
      ]
     },
     "execution_count": 5,
     "metadata": {},
     "output_type": "execute_result"
    }
   ],
   "source": [
    "# missings data\n",
    "total = data.isnull().sum().sort_values(ascending=False)\n",
    "percent = (data.isnull().sum()/data.isnull().count()).sort_values(ascending =False)\n",
    "missing_data = pd.concat([total,percent], axis =1, keys =[\"Total\", \"percent\"])\n",
    "missing_data.head(6)\n"
   ]
  },
  {
   "cell_type": "code",
   "execution_count": 6,
   "metadata": {},
   "outputs": [],
   "source": [
    "# convert \"error during scraping\" values to NaN values\n",
    "data = data.replace(['error during scraping'],'NaN')"
   ]
  },
  {
   "cell_type": "code",
   "execution_count": 7,
   "metadata": {},
   "outputs": [],
   "source": [
    "# drop columns with NaN values\n",
    "data = data.dropna()"
   ]
  },
  {
   "cell_type": "code",
   "execution_count": 8,
   "metadata": {},
   "outputs": [
    {
     "name": "stdout",
     "output_type": "stream",
     "text": [
      "<class 'pandas.core.frame.DataFrame'>\n",
      "Int64Index: 40812 entries, 0 to 50216\n",
      "Data columns (total 9 columns):\n",
      " #   Column         Non-Null Count  Dtype  \n",
      "---  ------         --------------  -----  \n",
      " 0   basename       40812 non-null  object \n",
      " 1   category       40812 non-null  object \n",
      " 2   company        40812 non-null  object \n",
      " 3   age_rating     40812 non-null  object \n",
      " 4   Downloads      40812 non-null  float64\n",
      " 5   Category2      40812 non-null  object \n",
      " 6   price          40812 non-null  object \n",
      " 7   rating         40812 non-null  object \n",
      " 8   numberreviews  40812 non-null  object \n",
      "dtypes: float64(1), object(8)\n",
      "memory usage: 1.9+ MB\n",
      "None\n",
      "          Downloads\n",
      "count  4.081200e+04\n",
      "mean   4.006455e+06\n",
      "std    3.638507e+07\n",
      "min    0.000000e+00\n",
      "25%    1.000000e+04\n",
      "50%    1.000000e+05\n",
      "75%    1.000000e+06\n",
      "max    1.000000e+09\n"
     ]
    }
   ],
   "source": [
    "print(data.info())\n",
    "print(data.describe())"
   ]
  },
  {
   "cell_type": "code",
   "execution_count": 9,
   "metadata": {},
   "outputs": [
    {
     "data": {
      "text/plain": [
       "basename         0\n",
       "category         0\n",
       "company          0\n",
       "age_rating       0\n",
       "Downloads        0\n",
       "Category2        0\n",
       "price            0\n",
       "rating           0\n",
       "numberreviews    0\n",
       "dtype: int64"
      ]
     },
     "execution_count": 9,
     "metadata": {},
     "output_type": "execute_result"
    }
   ],
   "source": [
    "#converting \n",
    "data.isnull().sum()"
   ]
  },
  {
   "cell_type": "code",
   "execution_count": 10,
   "metadata": {},
   "outputs": [
    {
     "name": "stdout",
     "output_type": "stream",
     "text": [
      "Duplice Rows :\n"
     ]
    },
    {
     "data": {
      "text/html": [
       "<div>\n",
       "<style scoped>\n",
       "    .dataframe tbody tr th:only-of-type {\n",
       "        vertical-align: middle;\n",
       "    }\n",
       "\n",
       "    .dataframe tbody tr th {\n",
       "        vertical-align: top;\n",
       "    }\n",
       "\n",
       "    .dataframe thead th {\n",
       "        text-align: right;\n",
       "    }\n",
       "</style>\n",
       "<table border=\"1\" class=\"dataframe\">\n",
       "  <thead>\n",
       "    <tr style=\"text-align: right;\">\n",
       "      <th></th>\n",
       "      <th>basename</th>\n",
       "      <th>category</th>\n",
       "      <th>company</th>\n",
       "      <th>age_rating</th>\n",
       "      <th>Downloads</th>\n",
       "      <th>Category2</th>\n",
       "      <th>price</th>\n",
       "      <th>rating</th>\n",
       "      <th>numberreviews</th>\n",
       "    </tr>\n",
       "  </thead>\n",
       "  <tbody>\n",
       "    <tr>\n",
       "      <th>1281</th>\n",
       "      <td>runtastic</td>\n",
       "      <td>health &amp; fitness</td>\n",
       "      <td>runtastic</td>\n",
       "      <td>everyone</td>\n",
       "      <td>100000.0</td>\n",
       "      <td>health &amp; fitness</td>\n",
       "      <td>NaN</td>\n",
       "      <td>NaN</td>\n",
       "      <td>NaN</td>\n",
       "    </tr>\n",
       "    <tr>\n",
       "      <th>1309</th>\n",
       "      <td>runtastic</td>\n",
       "      <td>health &amp; fitness</td>\n",
       "      <td>runtastic</td>\n",
       "      <td>everyone</td>\n",
       "      <td>100000.0</td>\n",
       "      <td>health &amp; fitness</td>\n",
       "      <td>NaN</td>\n",
       "      <td>NaN</td>\n",
       "      <td>NaN</td>\n",
       "    </tr>\n",
       "    <tr>\n",
       "      <th>1387</th>\n",
       "      <td>vrt</td>\n",
       "      <td>entertainment</td>\n",
       "      <td>vrt</td>\n",
       "      <td>no info</td>\n",
       "      <td>1000.0</td>\n",
       "      <td>entertainment</td>\n",
       "      <td>NaN</td>\n",
       "      <td>NaN</td>\n",
       "      <td>NaN</td>\n",
       "    </tr>\n",
       "    <tr>\n",
       "      <th>2675</th>\n",
       "      <td>runtastic</td>\n",
       "      <td>health &amp; fitness</td>\n",
       "      <td>runtastic</td>\n",
       "      <td>everyone</td>\n",
       "      <td>1000000.0</td>\n",
       "      <td>health &amp; fitness</td>\n",
       "      <td>NaN</td>\n",
       "      <td>NaN</td>\n",
       "      <td>NaN</td>\n",
       "    </tr>\n",
       "    <tr>\n",
       "      <th>2676</th>\n",
       "      <td>runtastic</td>\n",
       "      <td>health &amp; fitness</td>\n",
       "      <td>runtastic</td>\n",
       "      <td>everyone</td>\n",
       "      <td>1000000.0</td>\n",
       "      <td>health &amp; fitness</td>\n",
       "      <td>NaN</td>\n",
       "      <td>NaN</td>\n",
       "      <td>NaN</td>\n",
       "    </tr>\n",
       "    <tr>\n",
       "      <th>...</th>\n",
       "      <td>...</td>\n",
       "      <td>...</td>\n",
       "      <td>...</td>\n",
       "      <td>...</td>\n",
       "      <td>...</td>\n",
       "      <td>...</td>\n",
       "      <td>...</td>\n",
       "      <td>...</td>\n",
       "      <td>...</td>\n",
       "    </tr>\n",
       "    <tr>\n",
       "      <th>50211</th>\n",
       "      <td>hu</td>\n",
       "      <td>education</td>\n",
       "      <td>hogeschool utrecht</td>\n",
       "      <td>everyone</td>\n",
       "      <td>10000.0</td>\n",
       "      <td>education</td>\n",
       "      <td>free</td>\n",
       "      <td>1.6</td>\n",
       "      <td>48</td>\n",
       "    </tr>\n",
       "    <tr>\n",
       "      <th>50213</th>\n",
       "      <td>thalys</td>\n",
       "      <td>news &amp; magazines</td>\n",
       "      <td>thalys</td>\n",
       "      <td>everyone</td>\n",
       "      <td>1000.0</td>\n",
       "      <td>news &amp; magazines</td>\n",
       "      <td>free</td>\n",
       "      <td>2.2</td>\n",
       "      <td>26</td>\n",
       "    </tr>\n",
       "    <tr>\n",
       "      <th>50214</th>\n",
       "      <td>dreame</td>\n",
       "      <td>books &amp; reference</td>\n",
       "      <td>dreame media</td>\n",
       "      <td>16+</td>\n",
       "      <td>1000000.0</td>\n",
       "      <td>books &amp; reference</td>\n",
       "      <td>free</td>\n",
       "      <td>4.5</td>\n",
       "      <td>103,31</td>\n",
       "    </tr>\n",
       "    <tr>\n",
       "      <th>50215</th>\n",
       "      <td>thalys</td>\n",
       "      <td>news &amp; magazines</td>\n",
       "      <td>thalys</td>\n",
       "      <td>everyone</td>\n",
       "      <td>1000.0</td>\n",
       "      <td>news &amp; magazines</td>\n",
       "      <td>free</td>\n",
       "      <td>2.2</td>\n",
       "      <td>26</td>\n",
       "    </tr>\n",
       "    <tr>\n",
       "      <th>50216</th>\n",
       "      <td>easix</td>\n",
       "      <td>medical</td>\n",
       "      <td>easix bvba</td>\n",
       "      <td>everyone</td>\n",
       "      <td>1000.0</td>\n",
       "      <td>medical</td>\n",
       "      <td>free</td>\n",
       "      <td>2.8</td>\n",
       "      <td>5</td>\n",
       "    </tr>\n",
       "  </tbody>\n",
       "</table>\n",
       "<p>231 rows × 9 columns</p>\n",
       "</div>"
      ],
      "text/plain": [
       "        basename           category             company age_rating  Downloads  \\\n",
       "1281   runtastic   health & fitness           runtastic   everyone   100000.0   \n",
       "1309   runtastic   health & fitness           runtastic   everyone   100000.0   \n",
       "1387         vrt      entertainment                 vrt    no info     1000.0   \n",
       "2675   runtastic   health & fitness           runtastic   everyone  1000000.0   \n",
       "2676   runtastic   health & fitness           runtastic   everyone  1000000.0   \n",
       "...          ...                ...                 ...        ...        ...   \n",
       "50211         hu          education  hogeschool utrecht   everyone    10000.0   \n",
       "50213     thalys   news & magazines              thalys   everyone     1000.0   \n",
       "50214     dreame  books & reference        dreame media        16+  1000000.0   \n",
       "50215     thalys   news & magazines              thalys   everyone     1000.0   \n",
       "50216      easix            medical          easix bvba   everyone     1000.0   \n",
       "\n",
       "               Category2 price rating numberreviews  \n",
       "1281    health & fitness   NaN    NaN           NaN  \n",
       "1309    health & fitness   NaN    NaN           NaN  \n",
       "1387       entertainment   NaN    NaN           NaN  \n",
       "2675    health & fitness   NaN    NaN           NaN  \n",
       "2676    health & fitness   NaN    NaN           NaN  \n",
       "...                  ...   ...    ...           ...  \n",
       "50211          education  free    1.6            48  \n",
       "50213   news & magazines  free    2.2            26  \n",
       "50214  books & reference  free    4.5        103,31  \n",
       "50215   news & magazines  free    2.2            26  \n",
       "50216            medical  free    2.8             5  \n",
       "\n",
       "[231 rows x 9 columns]"
      ]
     },
     "execution_count": 10,
     "metadata": {},
     "output_type": "execute_result"
    }
   ],
   "source": [
    "#checking for duplicates in the whole dataset\n",
    "duplicate = data[data.duplicated()]\n",
    "print(\"Duplice Rows :\" )\n",
    "#print the resultant DataFrame\n",
    "duplicate"
   ]
  },
  {
   "cell_type": "markdown",
   "metadata": {},
   "source": [
    "### colums: basename"
   ]
  },
  {
   "cell_type": "code",
   "execution_count": 11,
   "metadata": {},
   "outputs": [
    {
     "name": "stdout",
     "output_type": "stream",
     "text": [
      "Duplicate Rows :\n"
     ]
    },
    {
     "data": {
      "text/html": [
       "<div>\n",
       "<style scoped>\n",
       "    .dataframe tbody tr th:only-of-type {\n",
       "        vertical-align: middle;\n",
       "    }\n",
       "\n",
       "    .dataframe tbody tr th {\n",
       "        vertical-align: top;\n",
       "    }\n",
       "\n",
       "    .dataframe thead th {\n",
       "        text-align: right;\n",
       "    }\n",
       "</style>\n",
       "<table border=\"1\" class=\"dataframe\">\n",
       "  <thead>\n",
       "    <tr style=\"text-align: right;\">\n",
       "      <th></th>\n",
       "      <th>basename</th>\n",
       "      <th>category</th>\n",
       "      <th>company</th>\n",
       "      <th>age_rating</th>\n",
       "      <th>Downloads</th>\n",
       "      <th>Category2</th>\n",
       "      <th>price</th>\n",
       "      <th>rating</th>\n",
       "      <th>numberreviews</th>\n",
       "    </tr>\n",
       "  </thead>\n",
       "  <tbody>\n",
       "    <tr>\n",
       "      <th>6</th>\n",
       "      <td>google</td>\n",
       "      <td>video players &amp; editors</td>\n",
       "      <td>google llc</td>\n",
       "      <td>no info</td>\n",
       "      <td>5.000000e+06</td>\n",
       "      <td>video players &amp; editors</td>\n",
       "      <td>free</td>\n",
       "      <td>4.4</td>\n",
       "      <td>57,127,897</td>\n",
       "    </tr>\n",
       "    <tr>\n",
       "      <th>7</th>\n",
       "      <td>facebook</td>\n",
       "      <td>social</td>\n",
       "      <td>facebook</td>\n",
       "      <td>no info</td>\n",
       "      <td>1.000000e+09</td>\n",
       "      <td>social</td>\n",
       "      <td>free</td>\n",
       "      <td>4.2</td>\n",
       "      <td>91,754,952</td>\n",
       "    </tr>\n",
       "    <tr>\n",
       "      <th>10</th>\n",
       "      <td>google</td>\n",
       "      <td>travel &amp; local</td>\n",
       "      <td>google llc</td>\n",
       "      <td>everyone</td>\n",
       "      <td>5.000000e+06</td>\n",
       "      <td>travel &amp; local</td>\n",
       "      <td>free</td>\n",
       "      <td>4.3</td>\n",
       "      <td>10,678,723</td>\n",
       "    </tr>\n",
       "    <tr>\n",
       "      <th>12</th>\n",
       "      <td>facebook</td>\n",
       "      <td>business</td>\n",
       "      <td>facebook</td>\n",
       "      <td>everyone</td>\n",
       "      <td>5.000000e+07</td>\n",
       "      <td>business</td>\n",
       "      <td>free</td>\n",
       "      <td>4.1</td>\n",
       "      <td>1,466,919</td>\n",
       "    </tr>\n",
       "    <tr>\n",
       "      <th>24</th>\n",
       "      <td>google</td>\n",
       "      <td>tools</td>\n",
       "      <td>google llc</td>\n",
       "      <td>everyone</td>\n",
       "      <td>5.000000e+06</td>\n",
       "      <td>tools</td>\n",
       "      <td>free</td>\n",
       "      <td>4.2</td>\n",
       "      <td>25,684,314</td>\n",
       "    </tr>\n",
       "    <tr>\n",
       "      <th>...</th>\n",
       "      <td>...</td>\n",
       "      <td>...</td>\n",
       "      <td>...</td>\n",
       "      <td>...</td>\n",
       "      <td>...</td>\n",
       "      <td>...</td>\n",
       "      <td>...</td>\n",
       "      <td>...</td>\n",
       "      <td>...</td>\n",
       "    </tr>\n",
       "    <tr>\n",
       "      <th>50211</th>\n",
       "      <td>hu</td>\n",
       "      <td>education</td>\n",
       "      <td>hogeschool utrecht</td>\n",
       "      <td>everyone</td>\n",
       "      <td>1.000000e+04</td>\n",
       "      <td>education</td>\n",
       "      <td>free</td>\n",
       "      <td>1.6</td>\n",
       "      <td>48</td>\n",
       "    </tr>\n",
       "    <tr>\n",
       "      <th>50213</th>\n",
       "      <td>thalys</td>\n",
       "      <td>news &amp; magazines</td>\n",
       "      <td>thalys</td>\n",
       "      <td>everyone</td>\n",
       "      <td>1.000000e+03</td>\n",
       "      <td>news &amp; magazines</td>\n",
       "      <td>free</td>\n",
       "      <td>2.2</td>\n",
       "      <td>26</td>\n",
       "    </tr>\n",
       "    <tr>\n",
       "      <th>50214</th>\n",
       "      <td>dreame</td>\n",
       "      <td>books &amp; reference</td>\n",
       "      <td>dreame media</td>\n",
       "      <td>16+</td>\n",
       "      <td>1.000000e+06</td>\n",
       "      <td>books &amp; reference</td>\n",
       "      <td>free</td>\n",
       "      <td>4.5</td>\n",
       "      <td>103,31</td>\n",
       "    </tr>\n",
       "    <tr>\n",
       "      <th>50215</th>\n",
       "      <td>thalys</td>\n",
       "      <td>news &amp; magazines</td>\n",
       "      <td>thalys</td>\n",
       "      <td>everyone</td>\n",
       "      <td>1.000000e+03</td>\n",
       "      <td>news &amp; magazines</td>\n",
       "      <td>free</td>\n",
       "      <td>2.2</td>\n",
       "      <td>26</td>\n",
       "    </tr>\n",
       "    <tr>\n",
       "      <th>50216</th>\n",
       "      <td>easix</td>\n",
       "      <td>medical</td>\n",
       "      <td>easix bvba</td>\n",
       "      <td>everyone</td>\n",
       "      <td>1.000000e+03</td>\n",
       "      <td>medical</td>\n",
       "      <td>free</td>\n",
       "      <td>2.8</td>\n",
       "      <td>5</td>\n",
       "    </tr>\n",
       "  </tbody>\n",
       "</table>\n",
       "<p>14149 rows × 9 columns</p>\n",
       "</div>"
      ],
      "text/plain": [
       "       basename                 category             company age_rating  \\\n",
       "6        google  video players & editors          google llc    no info   \n",
       "7      facebook                   social            facebook    no info   \n",
       "10       google           travel & local          google llc   everyone   \n",
       "12     facebook                 business            facebook   everyone   \n",
       "24       google                    tools          google llc   everyone   \n",
       "...         ...                      ...                 ...        ...   \n",
       "50211        hu                education  hogeschool utrecht   everyone   \n",
       "50213    thalys         news & magazines              thalys   everyone   \n",
       "50214    dreame        books & reference        dreame media        16+   \n",
       "50215    thalys         news & magazines              thalys   everyone   \n",
       "50216     easix                  medical          easix bvba   everyone   \n",
       "\n",
       "          Downloads                Category2 price rating numberreviews  \n",
       "6      5.000000e+06  video players & editors  free    4.4    57,127,897  \n",
       "7      1.000000e+09                   social  free    4.2    91,754,952  \n",
       "10     5.000000e+06           travel & local  free    4.3    10,678,723  \n",
       "12     5.000000e+07                 business  free    4.1     1,466,919  \n",
       "24     5.000000e+06                    tools  free    4.2    25,684,314  \n",
       "...             ...                      ...   ...    ...           ...  \n",
       "50211  1.000000e+04                education  free    1.6            48  \n",
       "50213  1.000000e+03         news & magazines  free    2.2            26  \n",
       "50214  1.000000e+06        books & reference  free    4.5        103,31  \n",
       "50215  1.000000e+03         news & magazines  free    2.2            26  \n",
       "50216  1.000000e+03                  medical  free    2.8             5  \n",
       "\n",
       "[14149 rows x 9 columns]"
      ]
     },
     "execution_count": 11,
     "metadata": {},
     "output_type": "execute_result"
    }
   ],
   "source": [
    "# colums: basename\n",
    "#checking for duplicates\n",
    "duplicate1= data[data.duplicated('basename')]\n",
    "print(\"Duplicate Rows :\")\n",
    "#print the resultant Dataframme\n",
    "duplicate1"
   ]
  },
  {
   "cell_type": "code",
   "execution_count": 12,
   "metadata": {},
   "outputs": [],
   "source": [
    "# removing Duplicates\n",
    "data = pd.concat([data, duplicate, duplicate1]).drop_duplicates(keep=False)"
   ]
  },
  {
   "cell_type": "markdown",
   "metadata": {},
   "source": [
    "### column: rating"
   ]
  },
  {
   "cell_type": "code",
   "execution_count": 13,
   "metadata": {},
   "outputs": [
    {
     "data": {
      "text/plain": [
       "2                    4.3\n",
       "3                    4.4\n",
       "4                    3.5\n",
       "5                    4.0\n",
       "9                    4.6\n",
       "              ...       \n",
       "50052    rating disabled\n",
       "50053    rating disabled\n",
       "50061                4.4\n",
       "50064    rating disabled\n",
       "50065    rating disabled\n",
       "Name: rating, Length: 26580, dtype: object"
      ]
     },
     "execution_count": 13,
     "metadata": {},
     "output_type": "execute_result"
    }
   ],
   "source": [
    "# column: rating\n",
    "data[\"rating\"]"
   ]
  },
  {
   "cell_type": "code",
   "execution_count": 14,
   "metadata": {},
   "outputs": [],
   "source": [
    "#convert \"rating disabled\" to NaN\n",
    "data[\"rating\"] = data[\"rating\"].replace(['rating disabled'],'NaN')"
   ]
  },
  {
   "cell_type": "code",
   "execution_count": 15,
   "metadata": {},
   "outputs": [],
   "source": [
    "# convert rating to float\n",
    "data[\"rating\"] = data.rating.astype(float)"
   ]
  },
  {
   "cell_type": "markdown",
   "metadata": {},
   "source": [
    "### Column: price"
   ]
  },
  {
   "cell_type": "code",
   "execution_count": null,
   "metadata": {},
   "outputs": [],
   "source": [
    "data[\"price\"]"
   ]
  },
  {
   "cell_type": "code",
   "execution_count": null,
   "metadata": {},
   "outputs": [],
   "source": []
  },
  {
   "cell_type": "code",
   "execution_count": null,
   "metadata": {},
   "outputs": [],
   "source": [
    "data.info()"
   ]
  }
 ],
 "metadata": {
  "kernelspec": {
   "display_name": "Python 3",
   "language": "python",
   "name": "python3"
  },
  "language_info": {
   "codemirror_mode": {
    "name": "ipython",
    "version": 3
   },
   "file_extension": ".py",
   "mimetype": "text/x-python",
   "name": "python",
   "nbconvert_exporter": "python",
   "pygments_lexer": "ipython3",
   "version": "3.9.0"
  }
 },
 "nbformat": 4,
 "nbformat_minor": 4
}
