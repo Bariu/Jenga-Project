{
 "cells": [
  {
   "cell_type": "markdown",
   "metadata": {},
   "source": [
    "# 1. Defining The Goal"
   ]
  },
  {
   "cell_type": "markdown",
   "metadata": {},
   "source": [
    "Mobile apps are everywhere. They are easy to create and can be lucrative. Because of these two factors, more and more apps are being developed. In this project, you will do a comprehensive analysis of the Android app market by comparing over ten thousand apps in Google Play across different categories. You'll look for insights in the data to devise strategies to drive growth and retention. The following are the suggested steps, to achieve the objectives of the project.\n"
   ]
  },
  {
   "cell_type": "markdown",
   "metadata": {},
   "source": [
    "1. Define the goal\n",
    "2. Get the data\n",
    "3. Clean the data\n",
    "4. Enrich the data\n",
    "5. Find insights and Visualize\n",
    "6. Iterate\n",
    "7. Report\n",
    "8. Conclusion\n"
   ]
  },
  {
   "cell_type": "markdown",
   "metadata": {},
   "source": [
    "# 2. Get the Data"
   ]
  },
  {
   "cell_type": "markdown",
   "metadata": {},
   "source": [
    "## Import the libraries"
   ]
  },
  {
   "cell_type": "code",
   "execution_count": 1,
   "metadata": {},
   "outputs": [],
   "source": [
    "import matplotlib.pyplot as plt # plotting\n",
    "import numpy as np # linear algebra\n",
    "import os # accessing directory structure\n",
    "import pandas as pd # data processing, CSV file I/O (e.g. pd.read_csv)"
   ]
  },
  {
   "cell_type": "code",
   "execution_count": 2,
   "metadata": {},
   "outputs": [
    {
     "name": "stdout",
     "output_type": "stream",
     "text": [
      "(50217, 9)\n"
     ]
    }
   ],
   "source": [
    "data = pd.read_csv(\"C:/Users/bariu/Desktop/Jenga-Project/Android apps.csv\")\n",
    "print(data.shape)"
   ]
  },
  {
   "cell_type": "code",
   "execution_count": 3,
   "metadata": {},
   "outputs": [
    {
     "data": {
      "text/html": [
       "<div>\n",
       "<style scoped>\n",
       "    .dataframe tbody tr th:only-of-type {\n",
       "        vertical-align: middle;\n",
       "    }\n",
       "\n",
       "    .dataframe tbody tr th {\n",
       "        vertical-align: top;\n",
       "    }\n",
       "\n",
       "    .dataframe thead th {\n",
       "        text-align: right;\n",
       "    }\n",
       "</style>\n",
       "<table border=\"1\" class=\"dataframe\">\n",
       "  <thead>\n",
       "    <tr style=\"text-align: right;\">\n",
       "      <th></th>\n",
       "      <th>basename</th>\n",
       "      <th>category</th>\n",
       "      <th>company</th>\n",
       "      <th>age_rating</th>\n",
       "      <th>Downloads</th>\n",
       "      <th>Category2</th>\n",
       "      <th>price</th>\n",
       "      <th>rating</th>\n",
       "      <th>numberreviews</th>\n",
       "    </tr>\n",
       "  </thead>\n",
       "  <tbody>\n",
       "    <tr>\n",
       "      <th>0</th>\n",
       "      <td>netflix</td>\n",
       "      <td>entertainment</td>\n",
       "      <td>netflix, inc.</td>\n",
       "      <td>no info</td>\n",
       "      <td>5.000000e+08</td>\n",
       "      <td>entertainment</td>\n",
       "      <td>free</td>\n",
       "      <td>4.5</td>\n",
       "      <td>7,287,852</td>\n",
       "    </tr>\n",
       "    <tr>\n",
       "      <th>1</th>\n",
       "      <td>facebook</td>\n",
       "      <td>communication</td>\n",
       "      <td>facebook</td>\n",
       "      <td>everyone</td>\n",
       "      <td>1.000000e+09</td>\n",
       "      <td>communication</td>\n",
       "      <td>free</td>\n",
       "      <td>4.2</td>\n",
       "      <td>69,050,158</td>\n",
       "    </tr>\n",
       "    <tr>\n",
       "      <th>2</th>\n",
       "      <td>android</td>\n",
       "      <td>communication</td>\n",
       "      <td>google llc</td>\n",
       "      <td>everyone</td>\n",
       "      <td>5.000000e+06</td>\n",
       "      <td>internet browser</td>\n",
       "      <td>free</td>\n",
       "      <td>4.3</td>\n",
       "      <td>17,065,648</td>\n",
       "    </tr>\n",
       "    <tr>\n",
       "      <th>3</th>\n",
       "      <td>google</td>\n",
       "      <td>communication</td>\n",
       "      <td>google llc</td>\n",
       "      <td>everyone</td>\n",
       "      <td>5.000000e+06</td>\n",
       "      <td>mail</td>\n",
       "      <td>free</td>\n",
       "      <td>4.4</td>\n",
       "      <td>6,272,191</td>\n",
       "    </tr>\n",
       "    <tr>\n",
       "      <th>4</th>\n",
       "      <td>grindrapp</td>\n",
       "      <td>social</td>\n",
       "      <td>grindr llc</td>\n",
       "      <td>18+</td>\n",
       "      <td>1.000000e+07</td>\n",
       "      <td>dating</td>\n",
       "      <td>free</td>\n",
       "      <td>3.5</td>\n",
       "      <td>365,432</td>\n",
       "    </tr>\n",
       "  </tbody>\n",
       "</table>\n",
       "</div>"
      ],
      "text/plain": [
       "    basename       category        company age_rating     Downloads  \\\n",
       "0    netflix  entertainment  netflix, inc.    no info  5.000000e+08   \n",
       "1   facebook  communication       facebook   everyone  1.000000e+09   \n",
       "2    android  communication     google llc   everyone  5.000000e+06   \n",
       "3     google  communication     google llc   everyone  5.000000e+06   \n",
       "4  grindrapp         social     grindr llc        18+  1.000000e+07   \n",
       "\n",
       "          Category2 price rating numberreviews  \n",
       "0     entertainment  free    4.5     7,287,852  \n",
       "1     communication  free    4.2    69,050,158  \n",
       "2  internet browser  free    4.3    17,065,648  \n",
       "3              mail  free    4.4     6,272,191  \n",
       "4            dating  free    3.5       365,432  "
      ]
     },
     "execution_count": 3,
     "metadata": {},
     "output_type": "execute_result"
    }
   ],
   "source": [
    "data.head()"
   ]
  },
  {
   "cell_type": "code",
   "execution_count": null,
   "metadata": {},
   "outputs": [],
   "source": []
  }
 ],
 "metadata": {
  "kernelspec": {
   "display_name": "Python 3",
   "language": "python",
   "name": "python3"
  },
  "language_info": {
   "codemirror_mode": {
    "name": "ipython",
    "version": 3
   },
   "file_extension": ".py",
   "mimetype": "text/x-python",
   "name": "python",
   "nbconvert_exporter": "python",
   "pygments_lexer": "ipython3",
   "version": "3.9.0"
  }
 },
 "nbformat": 4,
 "nbformat_minor": 4
}
