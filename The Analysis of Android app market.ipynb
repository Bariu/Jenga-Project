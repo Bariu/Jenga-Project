{
 "cells": [
  {
   "cell_type": "markdown",
   "metadata": {},
   "source": [
    "# 1. Defining The Goal"
   ]
  },
  {
   "cell_type": "markdown",
   "metadata": {},
   "source": [
    "The purpose of this project is to do an analysis of the android app market by comparing over 30,0000 apps in google play across different categories. The analysis should give a broad picture and insights to someone who is involved in market research or interested in knowing what strategies to follow in order to launch and sustain a successful app in android market. "
   ]
  },
  {
   "cell_type": "markdown",
   "metadata": {},
   "source": [
    "### Overview of Potential Business Questions\n",
    "The market analysis conducted in this project is intended to provide a reader with results that will give an initial overview of the situation in the market for Android phones.\n",
    "Below is set of questions that market-researchers, business intelligence team or potential Google Play market entrant is very likely to ask:\n",
    "1.\tWhat kind of apps have the highest market share?\n",
    "2.\tIs there any specific category dominating the market?\n",
    "3.\tWhich categories have the fewest number of apps available?\n"
   ]
  },
  {
   "cell_type": "markdown",
   "metadata": {},
   "source": [
    "# 2. Get the Data"
   ]
  },
  {
   "cell_type": "markdown",
   "metadata": {},
   "source": [
    "## Import the libraries"
   ]
  },
  {
   "cell_type": "code",
   "execution_count": 1,
   "metadata": {},
   "outputs": [],
   "source": [
    "import matplotlib.pyplot as plt # plotting\n",
    "import numpy as np # linear algebra\n",
    "import pandas as pd # data processing, CSV file I/O (e.g. pd.read_csv)\n",
    "import seaborn as sns\n",
    "import math\n",
    "import random\n",
    "import time"
   ]
  },
  {
   "cell_type": "code",
   "execution_count": 2,
   "metadata": {},
   "outputs": [
    {
     "name": "stdout",
     "output_type": "stream",
     "text": [
      "(37817, 18)\n"
     ]
    }
   ],
   "source": [
    "data = pd.read_csv(\"C:/Users/bariu/Desktop/Jenga-Project/Android apps.csv\")\n",
    "print(data.shape)"
   ]
  },
  {
   "cell_type": "code",
   "execution_count": 3,
   "metadata": {},
   "outputs": [
    {
     "data": {
      "text/html": [
       "<div>\n",
       "<style scoped>\n",
       "    .dataframe tbody tr th:only-of-type {\n",
       "        vertical-align: middle;\n",
       "    }\n",
       "\n",
       "    .dataframe tbody tr th {\n",
       "        vertical-align: top;\n",
       "    }\n",
       "\n",
       "    .dataframe thead th {\n",
       "        text-align: right;\n",
       "    }\n",
       "</style>\n",
       "<table border=\"1\" class=\"dataframe\">\n",
       "  <thead>\n",
       "    <tr style=\"text-align: right;\">\n",
       "      <th></th>\n",
       "      <th>appname</th>\n",
       "      <th>category</th>\n",
       "      <th>company</th>\n",
       "      <th>purchases</th>\n",
       "      <th>ads</th>\n",
       "      <th>sharesinfo</th>\n",
       "      <th>shareslocation</th>\n",
       "      <th>unrestrictedinternet</th>\n",
       "      <th>usersinteract</th>\n",
       "      <th>game</th>\n",
       "      <th>age_rating</th>\n",
       "      <th>Parentalguidance</th>\n",
       "      <th>Downloads</th>\n",
       "      <th>categorygame</th>\n",
       "      <th>price</th>\n",
       "      <th>paidapp</th>\n",
       "      <th>rating</th>\n",
       "      <th>numberreviews</th>\n",
       "    </tr>\n",
       "  </thead>\n",
       "  <tbody>\n",
       "    <tr>\n",
       "      <th>0</th>\n",
       "      <td>Netflix</td>\n",
       "      <td>entertainment</td>\n",
       "      <td>netflix, inc.</td>\n",
       "      <td>1</td>\n",
       "      <td>0</td>\n",
       "      <td>0</td>\n",
       "      <td>0</td>\n",
       "      <td>0</td>\n",
       "      <td>0</td>\n",
       "      <td>0</td>\n",
       "      <td>no info</td>\n",
       "      <td>1</td>\n",
       "      <td>500000000</td>\n",
       "      <td>no game</td>\n",
       "      <td>free</td>\n",
       "      <td>0.0</td>\n",
       "      <td>4.5</td>\n",
       "      <td>7,287,852</td>\n",
       "    </tr>\n",
       "    <tr>\n",
       "      <th>1</th>\n",
       "      <td>Messenger ? Text and Video Chat for Free</td>\n",
       "      <td>communication</td>\n",
       "      <td>facebook</td>\n",
       "      <td>1</td>\n",
       "      <td>0</td>\n",
       "      <td>0</td>\n",
       "      <td>1</td>\n",
       "      <td>0</td>\n",
       "      <td>1</td>\n",
       "      <td>0</td>\n",
       "      <td>everyone</td>\n",
       "      <td>0</td>\n",
       "      <td>1000000000</td>\n",
       "      <td>no game</td>\n",
       "      <td>free</td>\n",
       "      <td>0.0</td>\n",
       "      <td>4.2</td>\n",
       "      <td>69,050,158</td>\n",
       "    </tr>\n",
       "    <tr>\n",
       "      <th>2</th>\n",
       "      <td>Google Chrome: Fast &amp; Secure</td>\n",
       "      <td>internet browser</td>\n",
       "      <td>google llc</td>\n",
       "      <td>0</td>\n",
       "      <td>0</td>\n",
       "      <td>0</td>\n",
       "      <td>0</td>\n",
       "      <td>1</td>\n",
       "      <td>0</td>\n",
       "      <td>0</td>\n",
       "      <td>everyone</td>\n",
       "      <td>0</td>\n",
       "      <td>5000000</td>\n",
       "      <td>no game</td>\n",
       "      <td>free</td>\n",
       "      <td>0.0</td>\n",
       "      <td>4.3</td>\n",
       "      <td>17,065,648</td>\n",
       "    </tr>\n",
       "    <tr>\n",
       "      <th>3</th>\n",
       "      <td>Gmail</td>\n",
       "      <td>mail</td>\n",
       "      <td>google llc</td>\n",
       "      <td>0</td>\n",
       "      <td>1</td>\n",
       "      <td>0</td>\n",
       "      <td>0</td>\n",
       "      <td>0</td>\n",
       "      <td>1</td>\n",
       "      <td>0</td>\n",
       "      <td>everyone</td>\n",
       "      <td>0</td>\n",
       "      <td>5000000</td>\n",
       "      <td>no game</td>\n",
       "      <td>free</td>\n",
       "      <td>0.0</td>\n",
       "      <td>4.4</td>\n",
       "      <td>6,272,191</td>\n",
       "    </tr>\n",
       "    <tr>\n",
       "      <th>4</th>\n",
       "      <td>Grindr - Gay chat</td>\n",
       "      <td>dating</td>\n",
       "      <td>grindr llc</td>\n",
       "      <td>1</td>\n",
       "      <td>1</td>\n",
       "      <td>0</td>\n",
       "      <td>0</td>\n",
       "      <td>0</td>\n",
       "      <td>1</td>\n",
       "      <td>0</td>\n",
       "      <td>18+</td>\n",
       "      <td>0</td>\n",
       "      <td>10000000</td>\n",
       "      <td>no game</td>\n",
       "      <td>free</td>\n",
       "      <td>0.0</td>\n",
       "      <td>3.5</td>\n",
       "      <td>365,432</td>\n",
       "    </tr>\n",
       "  </tbody>\n",
       "</table>\n",
       "</div>"
      ],
      "text/plain": [
       "                                    appname          category        company  \\\n",
       "0                                   Netflix     entertainment  netflix, inc.   \n",
       "1  Messenger ? Text and Video Chat for Free     communication       facebook   \n",
       "2              Google Chrome: Fast & Secure  internet browser     google llc   \n",
       "3                                     Gmail              mail     google llc   \n",
       "4                         Grindr - Gay chat            dating     grindr llc   \n",
       "\n",
       "   purchases  ads  sharesinfo  shareslocation  unrestrictedinternet  \\\n",
       "0          1    0           0               0                     0   \n",
       "1          1    0           0               1                     0   \n",
       "2          0    0           0               0                     1   \n",
       "3          0    1           0               0                     0   \n",
       "4          1    1           0               0                     0   \n",
       "\n",
       "   usersinteract  game age_rating  Parentalguidance   Downloads categorygame  \\\n",
       "0              0     0    no info                 1   500000000      no game   \n",
       "1              1     0   everyone                 0  1000000000      no game   \n",
       "2              0     0   everyone                 0     5000000      no game   \n",
       "3              1     0   everyone                 0     5000000      no game   \n",
       "4              1     0        18+                 0    10000000      no game   \n",
       "\n",
       "  price  paidapp rating numberreviews  \n",
       "0  free      0.0    4.5     7,287,852  \n",
       "1  free      0.0    4.2    69,050,158  \n",
       "2  free      0.0    4.3    17,065,648  \n",
       "3  free      0.0    4.4     6,272,191  \n",
       "4  free      0.0    3.5       365,432  "
      ]
     },
     "execution_count": 3,
     "metadata": {},
     "output_type": "execute_result"
    }
   ],
   "source": [
    "data.head()"
   ]
  },
  {
   "cell_type": "code",
   "execution_count": 4,
   "metadata": {},
   "outputs": [
    {
     "name": "stdout",
     "output_type": "stream",
     "text": [
      "<class 'pandas.core.frame.DataFrame'>\n",
      "RangeIndex: 37817 entries, 0 to 37816\n",
      "Data columns (total 18 columns):\n",
      " #   Column                Non-Null Count  Dtype  \n",
      "---  ------                --------------  -----  \n",
      " 0   appname               37817 non-null  object \n",
      " 1   category              37817 non-null  object \n",
      " 2   company               37817 non-null  object \n",
      " 3   purchases             37817 non-null  int64  \n",
      " 4   ads                   37817 non-null  int64  \n",
      " 5   sharesinfo            37817 non-null  int64  \n",
      " 6   shareslocation        37817 non-null  int64  \n",
      " 7   unrestrictedinternet  37817 non-null  int64  \n",
      " 8   usersinteract         37817 non-null  int64  \n",
      " 9   game                  37817 non-null  int64  \n",
      " 10  age_rating            37817 non-null  object \n",
      " 11  Parentalguidance      37817 non-null  int64  \n",
      " 12  Downloads             37817 non-null  int64  \n",
      " 13  categorygame          37817 non-null  object \n",
      " 14  price                 37817 non-null  object \n",
      " 15  paidapp               37288 non-null  float64\n",
      " 16  rating                37817 non-null  object \n",
      " 17  numberreviews         37817 non-null  object \n",
      "dtypes: float64(1), int64(9), object(8)\n",
      "memory usage: 4.0+ MB\n"
     ]
    }
   ],
   "source": [
    "data.info()"
   ]
  },
  {
   "cell_type": "markdown",
   "metadata": {},
   "source": [
    "## 3. Clean the Data"
   ]
  },
  {
   "cell_type": "markdown",
   "metadata": {},
   "source": [
    "Lets look at the columns\n"
   ]
  },
  {
   "cell_type": "code",
   "execution_count": 5,
   "metadata": {},
   "outputs": [
    {
     "data": {
      "text/html": [
       "<div>\n",
       "<style scoped>\n",
       "    .dataframe tbody tr th:only-of-type {\n",
       "        vertical-align: middle;\n",
       "    }\n",
       "\n",
       "    .dataframe tbody tr th {\n",
       "        vertical-align: top;\n",
       "    }\n",
       "\n",
       "    .dataframe thead th {\n",
       "        text-align: right;\n",
       "    }\n",
       "</style>\n",
       "<table border=\"1\" class=\"dataframe\">\n",
       "  <thead>\n",
       "    <tr style=\"text-align: right;\">\n",
       "      <th></th>\n",
       "      <th>Total</th>\n",
       "      <th>percent</th>\n",
       "    </tr>\n",
       "  </thead>\n",
       "  <tbody>\n",
       "    <tr>\n",
       "      <th>paidapp</th>\n",
       "      <td>529</td>\n",
       "      <td>0.013988</td>\n",
       "    </tr>\n",
       "    <tr>\n",
       "      <th>numberreviews</th>\n",
       "      <td>0</td>\n",
       "      <td>0.000000</td>\n",
       "    </tr>\n",
       "    <tr>\n",
       "      <th>unrestrictedinternet</th>\n",
       "      <td>0</td>\n",
       "      <td>0.000000</td>\n",
       "    </tr>\n",
       "    <tr>\n",
       "      <th>category</th>\n",
       "      <td>0</td>\n",
       "      <td>0.000000</td>\n",
       "    </tr>\n",
       "    <tr>\n",
       "      <th>company</th>\n",
       "      <td>0</td>\n",
       "      <td>0.000000</td>\n",
       "    </tr>\n",
       "    <tr>\n",
       "      <th>purchases</th>\n",
       "      <td>0</td>\n",
       "      <td>0.000000</td>\n",
       "    </tr>\n",
       "  </tbody>\n",
       "</table>\n",
       "</div>"
      ],
      "text/plain": [
       "                      Total   percent\n",
       "paidapp                 529  0.013988\n",
       "numberreviews             0  0.000000\n",
       "unrestrictedinternet      0  0.000000\n",
       "category                  0  0.000000\n",
       "company                   0  0.000000\n",
       "purchases                 0  0.000000"
      ]
     },
     "execution_count": 5,
     "metadata": {},
     "output_type": "execute_result"
    }
   ],
   "source": [
    "# missings data\n",
    "total = data.isnull().sum().sort_values(ascending=False)\n",
    "percent = (data.isnull().sum()/data.isnull().count()).sort_values(ascending =False)\n",
    "missing_data = pd.concat([total,percent], axis =1, keys =[\"Total\", \"percent\"])\n",
    "missing_data.head(6)\n"
   ]
  },
  {
   "cell_type": "code",
   "execution_count": 6,
   "metadata": {},
   "outputs": [],
   "source": [
    "# convert \"error during scraping\" values to NaN values\n",
    "data = data.replace(['error during scraping'],'NaN')\n"
   ]
  },
  {
   "cell_type": "code",
   "execution_count": 7,
   "metadata": {},
   "outputs": [],
   "source": [
    "# convert \"no info\" to NAN\n",
    "data= data.replace([\"no info\"], \"NaN\")"
   ]
  },
  {
   "cell_type": "code",
   "execution_count": 8,
   "metadata": {},
   "outputs": [],
   "source": [
    "# drop columns with NaN values\n",
    "data = data.dropna()"
   ]
  },
  {
   "cell_type": "code",
   "execution_count": 9,
   "metadata": {},
   "outputs": [
    {
     "name": "stdout",
     "output_type": "stream",
     "text": [
      "<class 'pandas.core.frame.DataFrame'>\n",
      "Int64Index: 37288 entries, 0 to 37816\n",
      "Data columns (total 18 columns):\n",
      " #   Column                Non-Null Count  Dtype  \n",
      "---  ------                --------------  -----  \n",
      " 0   appname               37288 non-null  object \n",
      " 1   category              37288 non-null  object \n",
      " 2   company               37288 non-null  object \n",
      " 3   purchases             37288 non-null  int64  \n",
      " 4   ads                   37288 non-null  int64  \n",
      " 5   sharesinfo            37288 non-null  int64  \n",
      " 6   shareslocation        37288 non-null  int64  \n",
      " 7   unrestrictedinternet  37288 non-null  int64  \n",
      " 8   usersinteract         37288 non-null  int64  \n",
      " 9   game                  37288 non-null  int64  \n",
      " 10  age_rating            37288 non-null  object \n",
      " 11  Parentalguidance      37288 non-null  int64  \n",
      " 12  Downloads             37288 non-null  int64  \n",
      " 13  categorygame          37288 non-null  object \n",
      " 14  price                 37288 non-null  object \n",
      " 15  paidapp               37288 non-null  float64\n",
      " 16  rating                37288 non-null  object \n",
      " 17  numberreviews         37288 non-null  object \n",
      "dtypes: float64(1), int64(9), object(8)\n",
      "memory usage: 4.3+ MB\n",
      "None\n",
      "          purchases           ads    sharesinfo  shareslocation  \\\n",
      "count  37288.000000  37288.000000  37288.000000    37288.000000   \n",
      "mean       0.383662      0.507911      0.027006        0.028240   \n",
      "std        0.486284      0.499944      0.162103        0.165659   \n",
      "min        0.000000      0.000000      0.000000        0.000000   \n",
      "25%        0.000000      0.000000      0.000000        0.000000   \n",
      "50%        0.000000      1.000000      0.000000        0.000000   \n",
      "75%        1.000000      1.000000      0.000000        0.000000   \n",
      "max        1.000000      1.000000      1.000000        1.000000   \n",
      "\n",
      "       unrestrictedinternet  usersinteract          game  Parentalguidance  \\\n",
      "count          37288.000000   37288.000000  37288.000000      37288.000000   \n",
      "mean               0.008180       0.158845      0.238549          0.029554   \n",
      "std                0.090072       0.365536      0.426202          0.169355   \n",
      "min                0.000000       0.000000      0.000000          0.000000   \n",
      "25%                0.000000       0.000000      0.000000          0.000000   \n",
      "50%                0.000000       0.000000      0.000000          0.000000   \n",
      "75%                0.000000       0.000000      0.000000          0.000000   \n",
      "max                1.000000       1.000000      1.000000          1.000000   \n",
      "\n",
      "          Downloads       paidapp  \n",
      "count  3.728800e+04  37288.000000  \n",
      "mean   4.317624e+06      0.044438  \n",
      "std    3.792716e+07      0.206069  \n",
      "min    1.000000e+00      0.000000  \n",
      "25%    1.000000e+04      0.000000  \n",
      "50%    1.000000e+05      0.000000  \n",
      "75%    1.000000e+06      0.000000  \n",
      "max    1.000000e+09      1.000000  \n"
     ]
    }
   ],
   "source": [
    "print(data.info())\n",
    "print(data.describe())"
   ]
  },
  {
   "cell_type": "code",
   "execution_count": 10,
   "metadata": {},
   "outputs": [
    {
     "data": {
      "text/plain": [
       "appname                 0\n",
       "category                0\n",
       "company                 0\n",
       "purchases               0\n",
       "ads                     0\n",
       "sharesinfo              0\n",
       "shareslocation          0\n",
       "unrestrictedinternet    0\n",
       "usersinteract           0\n",
       "game                    0\n",
       "age_rating              0\n",
       "Parentalguidance        0\n",
       "Downloads               0\n",
       "categorygame            0\n",
       "price                   0\n",
       "paidapp                 0\n",
       "rating                  0\n",
       "numberreviews           0\n",
       "dtype: int64"
      ]
     },
     "execution_count": 10,
     "metadata": {},
     "output_type": "execute_result"
    }
   ],
   "source": [
    "#converting \n",
    "data.isnull().sum()"
   ]
  },
  {
   "cell_type": "code",
   "execution_count": 11,
   "metadata": {},
   "outputs": [
    {
     "name": "stdout",
     "output_type": "stream",
     "text": [
      "Duplice Rows :\n"
     ]
    },
    {
     "data": {
      "text/html": [
       "<div>\n",
       "<style scoped>\n",
       "    .dataframe tbody tr th:only-of-type {\n",
       "        vertical-align: middle;\n",
       "    }\n",
       "\n",
       "    .dataframe tbody tr th {\n",
       "        vertical-align: top;\n",
       "    }\n",
       "\n",
       "    .dataframe thead th {\n",
       "        text-align: right;\n",
       "    }\n",
       "</style>\n",
       "<table border=\"1\" class=\"dataframe\">\n",
       "  <thead>\n",
       "    <tr style=\"text-align: right;\">\n",
       "      <th></th>\n",
       "      <th>appname</th>\n",
       "      <th>category</th>\n",
       "      <th>company</th>\n",
       "      <th>purchases</th>\n",
       "      <th>ads</th>\n",
       "      <th>sharesinfo</th>\n",
       "      <th>shareslocation</th>\n",
       "      <th>unrestrictedinternet</th>\n",
       "      <th>usersinteract</th>\n",
       "      <th>game</th>\n",
       "      <th>age_rating</th>\n",
       "      <th>Parentalguidance</th>\n",
       "      <th>Downloads</th>\n",
       "      <th>categorygame</th>\n",
       "      <th>price</th>\n",
       "      <th>paidapp</th>\n",
       "      <th>rating</th>\n",
       "      <th>numberreviews</th>\n",
       "    </tr>\n",
       "  </thead>\n",
       "  <tbody>\n",
       "    <tr>\n",
       "      <th>37712</th>\n",
       "      <td>Automatic Call Recorder</td>\n",
       "      <td>tools</td>\n",
       "      <td>quantum4u</td>\n",
       "      <td>1</td>\n",
       "      <td>1</td>\n",
       "      <td>0</td>\n",
       "      <td>0</td>\n",
       "      <td>0</td>\n",
       "      <td>1</td>\n",
       "      <td>0</td>\n",
       "      <td>everyone</td>\n",
       "      <td>0</td>\n",
       "      <td>5000000</td>\n",
       "      <td>no game</td>\n",
       "      <td>free</td>\n",
       "      <td>0.0</td>\n",
       "      <td>4.2</td>\n",
       "      <td>62,542</td>\n",
       "    </tr>\n",
       "    <tr>\n",
       "      <th>37713</th>\n",
       "      <td>BeOne VR Awareness Game</td>\n",
       "      <td>mobilegame</td>\n",
       "      <td>beone development group bv</td>\n",
       "      <td>0</td>\n",
       "      <td>0</td>\n",
       "      <td>0</td>\n",
       "      <td>0</td>\n",
       "      <td>0</td>\n",
       "      <td>0</td>\n",
       "      <td>1</td>\n",
       "      <td>everyone</td>\n",
       "      <td>0</td>\n",
       "      <td>100</td>\n",
       "      <td>educational</td>\n",
       "      <td>free</td>\n",
       "      <td>0.0</td>\n",
       "      <td>rating disabled</td>\n",
       "      <td>rating disabled</td>\n",
       "    </tr>\n",
       "    <tr>\n",
       "      <th>37714</th>\n",
       "      <td>Weather</td>\n",
       "      <td>weather</td>\n",
       "      <td>word connect games</td>\n",
       "      <td>1</td>\n",
       "      <td>1</td>\n",
       "      <td>0</td>\n",
       "      <td>0</td>\n",
       "      <td>0</td>\n",
       "      <td>0</td>\n",
       "      <td>0</td>\n",
       "      <td>everyone</td>\n",
       "      <td>0</td>\n",
       "      <td>5000000</td>\n",
       "      <td>no game</td>\n",
       "      <td>free</td>\n",
       "      <td>0.0</td>\n",
       "      <td>4.5</td>\n",
       "      <td>79,366</td>\n",
       "    </tr>\n",
       "    <tr>\n",
       "      <th>37715</th>\n",
       "      <td>The Mindfulness App: relax, calm, focus and sleep</td>\n",
       "      <td>health &amp; fitness</td>\n",
       "      <td>mindapps</td>\n",
       "      <td>1</td>\n",
       "      <td>0</td>\n",
       "      <td>0</td>\n",
       "      <td>0</td>\n",
       "      <td>0</td>\n",
       "      <td>0</td>\n",
       "      <td>0</td>\n",
       "      <td>everyone</td>\n",
       "      <td>0</td>\n",
       "      <td>1000000</td>\n",
       "      <td>no game</td>\n",
       "      <td>free</td>\n",
       "      <td>0.0</td>\n",
       "      <td>4.3</td>\n",
       "      <td>10,039</td>\n",
       "    </tr>\n",
       "    <tr>\n",
       "      <th>37716</th>\n",
       "      <td>Snapchat</td>\n",
       "      <td>social</td>\n",
       "      <td>snap inc</td>\n",
       "      <td>1</td>\n",
       "      <td>1</td>\n",
       "      <td>1</td>\n",
       "      <td>0</td>\n",
       "      <td>0</td>\n",
       "      <td>1</td>\n",
       "      <td>0</td>\n",
       "      <td>NaN</td>\n",
       "      <td>1</td>\n",
       "      <td>1000000000</td>\n",
       "      <td>no game</td>\n",
       "      <td>free</td>\n",
       "      <td>0.0</td>\n",
       "      <td>4.3</td>\n",
       "      <td>20,393,701</td>\n",
       "    </tr>\n",
       "    <tr>\n",
       "      <th>...</th>\n",
       "      <td>...</td>\n",
       "      <td>...</td>\n",
       "      <td>...</td>\n",
       "      <td>...</td>\n",
       "      <td>...</td>\n",
       "      <td>...</td>\n",
       "      <td>...</td>\n",
       "      <td>...</td>\n",
       "      <td>...</td>\n",
       "      <td>...</td>\n",
       "      <td>...</td>\n",
       "      <td>...</td>\n",
       "      <td>...</td>\n",
       "      <td>...</td>\n",
       "      <td>...</td>\n",
       "      <td>...</td>\n",
       "      <td>...</td>\n",
       "      <td>...</td>\n",
       "    </tr>\n",
       "    <tr>\n",
       "      <th>37812</th>\n",
       "      <td>myHU</td>\n",
       "      <td>education</td>\n",
       "      <td>hogeschool utrecht</td>\n",
       "      <td>0</td>\n",
       "      <td>0</td>\n",
       "      <td>0</td>\n",
       "      <td>0</td>\n",
       "      <td>0</td>\n",
       "      <td>0</td>\n",
       "      <td>0</td>\n",
       "      <td>everyone</td>\n",
       "      <td>0</td>\n",
       "      <td>10000</td>\n",
       "      <td>no game</td>\n",
       "      <td>free</td>\n",
       "      <td>0.0</td>\n",
       "      <td>1.6</td>\n",
       "      <td>48</td>\n",
       "    </tr>\n",
       "    <tr>\n",
       "      <th>37813</th>\n",
       "      <td>e-PRESS&amp;MORE by Thalys</td>\n",
       "      <td>news &amp; magazines</td>\n",
       "      <td>thalys</td>\n",
       "      <td>1</td>\n",
       "      <td>0</td>\n",
       "      <td>0</td>\n",
       "      <td>0</td>\n",
       "      <td>0</td>\n",
       "      <td>0</td>\n",
       "      <td>0</td>\n",
       "      <td>everyone</td>\n",
       "      <td>0</td>\n",
       "      <td>1000</td>\n",
       "      <td>no game</td>\n",
       "      <td>free</td>\n",
       "      <td>0.0</td>\n",
       "      <td>2.2</td>\n",
       "      <td>26</td>\n",
       "    </tr>\n",
       "    <tr>\n",
       "      <th>37814</th>\n",
       "      <td>Dreame</td>\n",
       "      <td>books &amp; reference</td>\n",
       "      <td>dreame media</td>\n",
       "      <td>1</td>\n",
       "      <td>0</td>\n",
       "      <td>0</td>\n",
       "      <td>0</td>\n",
       "      <td>0</td>\n",
       "      <td>0</td>\n",
       "      <td>0</td>\n",
       "      <td>16+</td>\n",
       "      <td>0</td>\n",
       "      <td>1000000</td>\n",
       "      <td>no game</td>\n",
       "      <td>free</td>\n",
       "      <td>0.0</td>\n",
       "      <td>4.5</td>\n",
       "      <td>103,31</td>\n",
       "    </tr>\n",
       "    <tr>\n",
       "      <th>37815</th>\n",
       "      <td>e-PRESS&amp;MORE by Thalys</td>\n",
       "      <td>news &amp; magazines</td>\n",
       "      <td>thalys</td>\n",
       "      <td>1</td>\n",
       "      <td>0</td>\n",
       "      <td>0</td>\n",
       "      <td>0</td>\n",
       "      <td>0</td>\n",
       "      <td>0</td>\n",
       "      <td>0</td>\n",
       "      <td>everyone</td>\n",
       "      <td>0</td>\n",
       "      <td>1000</td>\n",
       "      <td>no game</td>\n",
       "      <td>free</td>\n",
       "      <td>0.0</td>\n",
       "      <td>2.2</td>\n",
       "      <td>26</td>\n",
       "    </tr>\n",
       "    <tr>\n",
       "      <th>37816</th>\n",
       "      <td>Easix Easynurse</td>\n",
       "      <td>medical</td>\n",
       "      <td>easix bvba</td>\n",
       "      <td>0</td>\n",
       "      <td>0</td>\n",
       "      <td>0</td>\n",
       "      <td>0</td>\n",
       "      <td>0</td>\n",
       "      <td>0</td>\n",
       "      <td>0</td>\n",
       "      <td>everyone</td>\n",
       "      <td>0</td>\n",
       "      <td>1000</td>\n",
       "      <td>no game</td>\n",
       "      <td>free</td>\n",
       "      <td>0.0</td>\n",
       "      <td>2.8</td>\n",
       "      <td>5</td>\n",
       "    </tr>\n",
       "  </tbody>\n",
       "</table>\n",
       "<p>105 rows × 18 columns</p>\n",
       "</div>"
      ],
      "text/plain": [
       "                                                 appname           category  \\\n",
       "37712                            Automatic Call Recorder              tools   \n",
       "37713                            BeOne VR Awareness Game         mobilegame   \n",
       "37714                                            Weather            weather   \n",
       "37715  The Mindfulness App: relax, calm, focus and sleep   health & fitness   \n",
       "37716                                           Snapchat             social   \n",
       "...                                                  ...                ...   \n",
       "37812                                               myHU          education   \n",
       "37813                             e-PRESS&MORE by Thalys   news & magazines   \n",
       "37814                                             Dreame  books & reference   \n",
       "37815                             e-PRESS&MORE by Thalys   news & magazines   \n",
       "37816                                    Easix Easynurse            medical   \n",
       "\n",
       "                          company  purchases  ads  sharesinfo  shareslocation  \\\n",
       "37712                   quantum4u          1    1           0               0   \n",
       "37713  beone development group bv          0    0           0               0   \n",
       "37714          word connect games          1    1           0               0   \n",
       "37715                    mindapps          1    0           0               0   \n",
       "37716                    snap inc          1    1           1               0   \n",
       "...                           ...        ...  ...         ...             ...   \n",
       "37812          hogeschool utrecht          0    0           0               0   \n",
       "37813                      thalys          1    0           0               0   \n",
       "37814                dreame media          1    0           0               0   \n",
       "37815                      thalys          1    0           0               0   \n",
       "37816                  easix bvba          0    0           0               0   \n",
       "\n",
       "       unrestrictedinternet  usersinteract  game age_rating  Parentalguidance  \\\n",
       "37712                     0              1     0   everyone                 0   \n",
       "37713                     0              0     1   everyone                 0   \n",
       "37714                     0              0     0   everyone                 0   \n",
       "37715                     0              0     0   everyone                 0   \n",
       "37716                     0              1     0        NaN                 1   \n",
       "...                     ...            ...   ...        ...               ...   \n",
       "37812                     0              0     0   everyone                 0   \n",
       "37813                     0              0     0   everyone                 0   \n",
       "37814                     0              0     0        16+                 0   \n",
       "37815                     0              0     0   everyone                 0   \n",
       "37816                     0              0     0   everyone                 0   \n",
       "\n",
       "        Downloads categorygame price  paidapp           rating  \\\n",
       "37712     5000000      no game  free      0.0              4.2   \n",
       "37713         100  educational  free      0.0  rating disabled   \n",
       "37714     5000000      no game  free      0.0              4.5   \n",
       "37715     1000000      no game  free      0.0              4.3   \n",
       "37716  1000000000      no game  free      0.0              4.3   \n",
       "...           ...          ...   ...      ...              ...   \n",
       "37812       10000      no game  free      0.0              1.6   \n",
       "37813        1000      no game  free      0.0              2.2   \n",
       "37814     1000000      no game  free      0.0              4.5   \n",
       "37815        1000      no game  free      0.0              2.2   \n",
       "37816        1000      no game  free      0.0              2.8   \n",
       "\n",
       "         numberreviews  \n",
       "37712           62,542  \n",
       "37713  rating disabled  \n",
       "37714           79,366  \n",
       "37715           10,039  \n",
       "37716       20,393,701  \n",
       "...                ...  \n",
       "37812               48  \n",
       "37813               26  \n",
       "37814           103,31  \n",
       "37815               26  \n",
       "37816                5  \n",
       "\n",
       "[105 rows x 18 columns]"
      ]
     },
     "execution_count": 11,
     "metadata": {},
     "output_type": "execute_result"
    }
   ],
   "source": [
    "#checking for duplicates in the whole dataset\n",
    "duplicate = data[data.duplicated()]\n",
    "print(\"Duplice Rows :\" )\n",
    "#print the resultant DataFrame\n",
    "duplicate"
   ]
  },
  {
   "cell_type": "markdown",
   "metadata": {},
   "source": [
    "### colums: appname"
   ]
  },
  {
   "cell_type": "code",
   "execution_count": 12,
   "metadata": {},
   "outputs": [
    {
     "name": "stdout",
     "output_type": "stream",
     "text": [
      "Duplicate Rows :\n"
     ]
    },
    {
     "data": {
      "text/html": [
       "<div>\n",
       "<style scoped>\n",
       "    .dataframe tbody tr th:only-of-type {\n",
       "        vertical-align: middle;\n",
       "    }\n",
       "\n",
       "    .dataframe tbody tr th {\n",
       "        vertical-align: top;\n",
       "    }\n",
       "\n",
       "    .dataframe thead th {\n",
       "        text-align: right;\n",
       "    }\n",
       "</style>\n",
       "<table border=\"1\" class=\"dataframe\">\n",
       "  <thead>\n",
       "    <tr style=\"text-align: right;\">\n",
       "      <th></th>\n",
       "      <th>appname</th>\n",
       "      <th>category</th>\n",
       "      <th>company</th>\n",
       "      <th>purchases</th>\n",
       "      <th>ads</th>\n",
       "      <th>sharesinfo</th>\n",
       "      <th>shareslocation</th>\n",
       "      <th>unrestrictedinternet</th>\n",
       "      <th>usersinteract</th>\n",
       "      <th>game</th>\n",
       "      <th>age_rating</th>\n",
       "      <th>Parentalguidance</th>\n",
       "      <th>Downloads</th>\n",
       "      <th>categorygame</th>\n",
       "      <th>price</th>\n",
       "      <th>paidapp</th>\n",
       "      <th>rating</th>\n",
       "      <th>numberreviews</th>\n",
       "    </tr>\n",
       "  </thead>\n",
       "  <tbody>\n",
       "    <tr>\n",
       "      <th>53</th>\n",
       "      <td>Work Log</td>\n",
       "      <td>productivity</td>\n",
       "      <td>ar productions inc.</td>\n",
       "      <td>1</td>\n",
       "      <td>1</td>\n",
       "      <td>0</td>\n",
       "      <td>0</td>\n",
       "      <td>0</td>\n",
       "      <td>0</td>\n",
       "      <td>0</td>\n",
       "      <td>everyone</td>\n",
       "      <td>0</td>\n",
       "      <td>1000000</td>\n",
       "      <td>no game</td>\n",
       "      <td>free</td>\n",
       "      <td>0.0</td>\n",
       "      <td>4.6</td>\n",
       "      <td>34,82</td>\n",
       "    </tr>\n",
       "    <tr>\n",
       "      <th>674</th>\n",
       "      <td>Music player</td>\n",
       "      <td>music &amp; audio</td>\n",
       "      <td>green apple studio</td>\n",
       "      <td>0</td>\n",
       "      <td>1</td>\n",
       "      <td>0</td>\n",
       "      <td>0</td>\n",
       "      <td>0</td>\n",
       "      <td>0</td>\n",
       "      <td>0</td>\n",
       "      <td>everyone</td>\n",
       "      <td>0</td>\n",
       "      <td>5000000</td>\n",
       "      <td>no game</td>\n",
       "      <td>free</td>\n",
       "      <td>0.0</td>\n",
       "      <td>4.7</td>\n",
       "      <td>122,07</td>\n",
       "    </tr>\n",
       "    <tr>\n",
       "      <th>746</th>\n",
       "      <td>Bubble Shooter</td>\n",
       "      <td>mobilegame</td>\n",
       "      <td>candy bubble studio</td>\n",
       "      <td>0</td>\n",
       "      <td>1</td>\n",
       "      <td>0</td>\n",
       "      <td>0</td>\n",
       "      <td>0</td>\n",
       "      <td>0</td>\n",
       "      <td>1</td>\n",
       "      <td>7+</td>\n",
       "      <td>0</td>\n",
       "      <td>50000000</td>\n",
       "      <td>casual</td>\n",
       "      <td>free</td>\n",
       "      <td>0.0</td>\n",
       "      <td>4.3</td>\n",
       "      <td>426,723</td>\n",
       "    </tr>\n",
       "    <tr>\n",
       "      <th>759</th>\n",
       "      <td>Expense Manager</td>\n",
       "      <td>finance</td>\n",
       "      <td>bishinews</td>\n",
       "      <td>0</td>\n",
       "      <td>1</td>\n",
       "      <td>0</td>\n",
       "      <td>0</td>\n",
       "      <td>0</td>\n",
       "      <td>0</td>\n",
       "      <td>0</td>\n",
       "      <td>everyone</td>\n",
       "      <td>0</td>\n",
       "      <td>5000000</td>\n",
       "      <td>no game</td>\n",
       "      <td>free</td>\n",
       "      <td>0.0</td>\n",
       "      <td>4.5</td>\n",
       "      <td>58,862</td>\n",
       "    </tr>\n",
       "    <tr>\n",
       "      <th>805</th>\n",
       "      <td>File Manager</td>\n",
       "      <td>tools</td>\n",
       "      <td>mobile, asustek computer inc.</td>\n",
       "      <td>0</td>\n",
       "      <td>1</td>\n",
       "      <td>0</td>\n",
       "      <td>0</td>\n",
       "      <td>0</td>\n",
       "      <td>0</td>\n",
       "      <td>0</td>\n",
       "      <td>everyone</td>\n",
       "      <td>0</td>\n",
       "      <td>100000000</td>\n",
       "      <td>no game</td>\n",
       "      <td>free</td>\n",
       "      <td>0.0</td>\n",
       "      <td>4.4</td>\n",
       "      <td>778,865</td>\n",
       "    </tr>\n",
       "    <tr>\n",
       "      <th>...</th>\n",
       "      <td>...</td>\n",
       "      <td>...</td>\n",
       "      <td>...</td>\n",
       "      <td>...</td>\n",
       "      <td>...</td>\n",
       "      <td>...</td>\n",
       "      <td>...</td>\n",
       "      <td>...</td>\n",
       "      <td>...</td>\n",
       "      <td>...</td>\n",
       "      <td>...</td>\n",
       "      <td>...</td>\n",
       "      <td>...</td>\n",
       "      <td>...</td>\n",
       "      <td>...</td>\n",
       "      <td>...</td>\n",
       "      <td>...</td>\n",
       "      <td>...</td>\n",
       "    </tr>\n",
       "    <tr>\n",
       "      <th>37812</th>\n",
       "      <td>myHU</td>\n",
       "      <td>education</td>\n",
       "      <td>hogeschool utrecht</td>\n",
       "      <td>0</td>\n",
       "      <td>0</td>\n",
       "      <td>0</td>\n",
       "      <td>0</td>\n",
       "      <td>0</td>\n",
       "      <td>0</td>\n",
       "      <td>0</td>\n",
       "      <td>everyone</td>\n",
       "      <td>0</td>\n",
       "      <td>10000</td>\n",
       "      <td>no game</td>\n",
       "      <td>free</td>\n",
       "      <td>0.0</td>\n",
       "      <td>1.6</td>\n",
       "      <td>48</td>\n",
       "    </tr>\n",
       "    <tr>\n",
       "      <th>37813</th>\n",
       "      <td>e-PRESS&amp;MORE by Thalys</td>\n",
       "      <td>news &amp; magazines</td>\n",
       "      <td>thalys</td>\n",
       "      <td>1</td>\n",
       "      <td>0</td>\n",
       "      <td>0</td>\n",
       "      <td>0</td>\n",
       "      <td>0</td>\n",
       "      <td>0</td>\n",
       "      <td>0</td>\n",
       "      <td>everyone</td>\n",
       "      <td>0</td>\n",
       "      <td>1000</td>\n",
       "      <td>no game</td>\n",
       "      <td>free</td>\n",
       "      <td>0.0</td>\n",
       "      <td>2.2</td>\n",
       "      <td>26</td>\n",
       "    </tr>\n",
       "    <tr>\n",
       "      <th>37814</th>\n",
       "      <td>Dreame</td>\n",
       "      <td>books &amp; reference</td>\n",
       "      <td>dreame media</td>\n",
       "      <td>1</td>\n",
       "      <td>0</td>\n",
       "      <td>0</td>\n",
       "      <td>0</td>\n",
       "      <td>0</td>\n",
       "      <td>0</td>\n",
       "      <td>0</td>\n",
       "      <td>16+</td>\n",
       "      <td>0</td>\n",
       "      <td>1000000</td>\n",
       "      <td>no game</td>\n",
       "      <td>free</td>\n",
       "      <td>0.0</td>\n",
       "      <td>4.5</td>\n",
       "      <td>103,31</td>\n",
       "    </tr>\n",
       "    <tr>\n",
       "      <th>37815</th>\n",
       "      <td>e-PRESS&amp;MORE by Thalys</td>\n",
       "      <td>news &amp; magazines</td>\n",
       "      <td>thalys</td>\n",
       "      <td>1</td>\n",
       "      <td>0</td>\n",
       "      <td>0</td>\n",
       "      <td>0</td>\n",
       "      <td>0</td>\n",
       "      <td>0</td>\n",
       "      <td>0</td>\n",
       "      <td>everyone</td>\n",
       "      <td>0</td>\n",
       "      <td>1000</td>\n",
       "      <td>no game</td>\n",
       "      <td>free</td>\n",
       "      <td>0.0</td>\n",
       "      <td>2.2</td>\n",
       "      <td>26</td>\n",
       "    </tr>\n",
       "    <tr>\n",
       "      <th>37816</th>\n",
       "      <td>Easix Easynurse</td>\n",
       "      <td>medical</td>\n",
       "      <td>easix bvba</td>\n",
       "      <td>0</td>\n",
       "      <td>0</td>\n",
       "      <td>0</td>\n",
       "      <td>0</td>\n",
       "      <td>0</td>\n",
       "      <td>0</td>\n",
       "      <td>0</td>\n",
       "      <td>everyone</td>\n",
       "      <td>0</td>\n",
       "      <td>1000</td>\n",
       "      <td>no game</td>\n",
       "      <td>free</td>\n",
       "      <td>0.0</td>\n",
       "      <td>2.8</td>\n",
       "      <td>5</td>\n",
       "    </tr>\n",
       "  </tbody>\n",
       "</table>\n",
       "<p>838 rows × 18 columns</p>\n",
       "</div>"
      ],
      "text/plain": [
       "                      appname           category  \\\n",
       "53                   Work Log       productivity   \n",
       "674              Music player      music & audio   \n",
       "746            Bubble Shooter         mobilegame   \n",
       "759           Expense Manager            finance   \n",
       "805              File Manager              tools   \n",
       "...                       ...                ...   \n",
       "37812                    myHU          education   \n",
       "37813  e-PRESS&MORE by Thalys   news & magazines   \n",
       "37814                  Dreame  books & reference   \n",
       "37815  e-PRESS&MORE by Thalys   news & magazines   \n",
       "37816         Easix Easynurse            medical   \n",
       "\n",
       "                             company  purchases  ads  sharesinfo  \\\n",
       "53               ar productions inc.          1    1           0   \n",
       "674               green apple studio          0    1           0   \n",
       "746              candy bubble studio          0    1           0   \n",
       "759                        bishinews          0    1           0   \n",
       "805    mobile, asustek computer inc.          0    1           0   \n",
       "...                              ...        ...  ...         ...   \n",
       "37812             hogeschool utrecht          0    0           0   \n",
       "37813                         thalys          1    0           0   \n",
       "37814                   dreame media          1    0           0   \n",
       "37815                         thalys          1    0           0   \n",
       "37816                     easix bvba          0    0           0   \n",
       "\n",
       "       shareslocation  unrestrictedinternet  usersinteract  game age_rating  \\\n",
       "53                  0                     0              0     0   everyone   \n",
       "674                 0                     0              0     0   everyone   \n",
       "746                 0                     0              0     1         7+   \n",
       "759                 0                     0              0     0   everyone   \n",
       "805                 0                     0              0     0   everyone   \n",
       "...               ...                   ...            ...   ...        ...   \n",
       "37812               0                     0              0     0   everyone   \n",
       "37813               0                     0              0     0   everyone   \n",
       "37814               0                     0              0     0        16+   \n",
       "37815               0                     0              0     0   everyone   \n",
       "37816               0                     0              0     0   everyone   \n",
       "\n",
       "       Parentalguidance  Downloads categorygame price  paidapp rating  \\\n",
       "53                    0    1000000      no game  free      0.0    4.6   \n",
       "674                   0    5000000      no game  free      0.0    4.7   \n",
       "746                   0   50000000       casual  free      0.0    4.3   \n",
       "759                   0    5000000      no game  free      0.0    4.5   \n",
       "805                   0  100000000      no game  free      0.0    4.4   \n",
       "...                 ...        ...          ...   ...      ...    ...   \n",
       "37812                 0      10000      no game  free      0.0    1.6   \n",
       "37813                 0       1000      no game  free      0.0    2.2   \n",
       "37814                 0    1000000      no game  free      0.0    4.5   \n",
       "37815                 0       1000      no game  free      0.0    2.2   \n",
       "37816                 0       1000      no game  free      0.0    2.8   \n",
       "\n",
       "      numberreviews  \n",
       "53            34,82  \n",
       "674          122,07  \n",
       "746         426,723  \n",
       "759          58,862  \n",
       "805         778,865  \n",
       "...             ...  \n",
       "37812            48  \n",
       "37813            26  \n",
       "37814        103,31  \n",
       "37815            26  \n",
       "37816             5  \n",
       "\n",
       "[838 rows x 18 columns]"
      ]
     },
     "execution_count": 12,
     "metadata": {},
     "output_type": "execute_result"
    }
   ],
   "source": [
    "#checking for duplicates\n",
    "duplicate1= data[data.duplicated('appname')]\n",
    "print(\"Duplicate Rows :\")\n",
    "#print the resultant Dataframme\n",
    "duplicate1"
   ]
  },
  {
   "cell_type": "code",
   "execution_count": 13,
   "metadata": {},
   "outputs": [],
   "source": [
    "# removing Duplicates\n",
    "data = pd.concat([data, duplicate, duplicate1]).drop_duplicates(keep=False)"
   ]
  },
  {
   "cell_type": "markdown",
   "metadata": {},
   "source": [
    "### column: rating"
   ]
  },
  {
   "cell_type": "code",
   "execution_count": 14,
   "metadata": {},
   "outputs": [
    {
     "data": {
      "text/plain": [
       "2                    4.3\n",
       "3                    4.4\n",
       "4                    3.5\n",
       "5                      4\n",
       "6                    4.4\n",
       "              ...       \n",
       "37707                3.9\n",
       "37708                3.3\n",
       "37709    rating disabled\n",
       "37710                3.9\n",
       "37711                  3\n",
       "Name: rating, Length: 36366, dtype: object"
      ]
     },
     "execution_count": 14,
     "metadata": {},
     "output_type": "execute_result"
    }
   ],
   "source": [
    "data[\"rating\"]"
   ]
  },
  {
   "cell_type": "code",
   "execution_count": 15,
   "metadata": {},
   "outputs": [],
   "source": [
    "#convert \"rating disabled\" to NaN\n",
    "data[\"rating\"] = data[\"rating\"].replace(['rating disabled'],'NaN')"
   ]
  },
  {
   "cell_type": "code",
   "execution_count": 16,
   "metadata": {},
   "outputs": [],
   "source": [
    "# convert rating to float\n",
    "data[\"rating\"] = data.rating.astype(float)"
   ]
  },
  {
   "cell_type": "markdown",
   "metadata": {},
   "source": [
    "### Column: price"
   ]
  },
  {
   "cell_type": "code",
   "execution_count": 17,
   "metadata": {},
   "outputs": [
    {
     "data": {
      "text/plain": [
       "2                     free\n",
       "3                     free\n",
       "4                     free\n",
       "5                     free\n",
       "6                     free\n",
       "               ...        \n",
       "37707                 free\n",
       "37708                 free\n",
       "37709                 free\n",
       "37710                 free\n",
       "37711    no info available\n",
       "Name: price, Length: 36366, dtype: object"
      ]
     },
     "execution_count": 17,
     "metadata": {},
     "output_type": "execute_result"
    }
   ],
   "source": [
    "data[\"price\"]"
   ]
  },
  {
   "cell_type": "code",
   "execution_count": 18,
   "metadata": {},
   "outputs": [],
   "source": [
    "#convert \"no info available\" to NaN\n",
    "data[\"price\"]= data[\"price\"].replace([\"no info available\"], \"NaN\")\n"
   ]
  },
  {
   "cell_type": "code",
   "execution_count": 19,
   "metadata": {},
   "outputs": [],
   "source": [
    "#convert \"no info\" to NaN\n",
    "data[\"price\"]= data[\"price\"].replace([\"no info\"], \"NaN\")"
   ]
  },
  {
   "cell_type": "code",
   "execution_count": 20,
   "metadata": {},
   "outputs": [],
   "source": [
    "# convert \"free\" to 0\n",
    "data[\"price\"]= data[\"price\"].replace([\"free\"], \"0\")"
   ]
  },
  {
   "cell_type": "code",
   "execution_count": 21,
   "metadata": {},
   "outputs": [],
   "source": [
    "#convert price to float\n",
    "data[\"price\"]= data.price.astype(float)"
   ]
  },
  {
   "cell_type": "code",
   "execution_count": 22,
   "metadata": {},
   "outputs": [
    {
     "data": {
      "text/plain": [
       "0.00      33766\n",
       "0.59         98\n",
       "0.99         92\n",
       "1.99         82\n",
       "2.99         78\n",
       "          ...  \n",
       "254.99        1\n",
       "1.06          1\n",
       "25.99         1\n",
       "4.83          1\n",
       "4.98          1\n",
       "Name: price, Length: 162, dtype: int64"
      ]
     },
     "execution_count": 22,
     "metadata": {},
     "output_type": "execute_result"
    }
   ],
   "source": [
    "data.price.value_counts()"
   ]
  },
  {
   "cell_type": "markdown",
   "metadata": {},
   "source": [
    "### Column: numberreviews"
   ]
  },
  {
   "cell_type": "code",
   "execution_count": 23,
   "metadata": {},
   "outputs": [
    {
     "data": {
      "text/plain": [
       "2             17,065,648\n",
       "3              6,272,191\n",
       "4                365,432\n",
       "5                 111,05\n",
       "6             57,127,897\n",
       "              ...       \n",
       "37707                 13\n",
       "37708              1,078\n",
       "37709    rating disabled\n",
       "37710             80,012\n",
       "37711                163\n",
       "Name: numberreviews, Length: 36366, dtype: object"
      ]
     },
     "execution_count": 23,
     "metadata": {},
     "output_type": "execute_result"
    }
   ],
   "source": [
    "data[\"numberreviews\"]"
   ]
  },
  {
   "cell_type": "code",
   "execution_count": 24,
   "metadata": {},
   "outputs": [],
   "source": [
    "# convert \"rating disabled\" to NaN\n",
    "data[\"numberreviews\"]= data[\"numberreviews\"].replace([\"rating disabled\"], \"NaN\")"
   ]
  },
  {
   "cell_type": "code",
   "execution_count": 25,
   "metadata": {},
   "outputs": [],
   "source": [
    "#Removing '+', '.' , 'k', and ','\n",
    "data.numberreviews=data.numberreviews.apply(lambda x: x.strip('+'))\n",
    "data.numberreviews=data.numberreviews.apply(lambda x: x.replace(',',''))\n",
    "data.numberreviews=data.numberreviews.apply(lambda x: x.replace('.',''))\n",
    "data.numberreviews= data.numberreviews.apply(lambda x: x.replace('k','0'))"
   ]
  },
  {
   "cell_type": "code",
   "execution_count": 26,
   "metadata": {},
   "outputs": [],
   "source": [
    "#Convert numberreviews to int\n",
    "data[\"numberreviews\"]= data.numberreviews.astype(float)"
   ]
  },
  {
   "cell_type": "code",
   "execution_count": 27,
   "metadata": {},
   "outputs": [
    {
     "name": "stdout",
     "output_type": "stream",
     "text": [
      "<class 'pandas.core.frame.DataFrame'>\n",
      "Int64Index: 36366 entries, 2 to 37711\n",
      "Data columns (total 18 columns):\n",
      " #   Column                Non-Null Count  Dtype  \n",
      "---  ------                --------------  -----  \n",
      " 0   appname               36366 non-null  object \n",
      " 1   category              36366 non-null  object \n",
      " 2   company               36366 non-null  object \n",
      " 3   purchases             36366 non-null  int64  \n",
      " 4   ads                   36366 non-null  int64  \n",
      " 5   sharesinfo            36366 non-null  int64  \n",
      " 6   shareslocation        36366 non-null  int64  \n",
      " 7   unrestrictedinternet  36366 non-null  int64  \n",
      " 8   usersinteract         36366 non-null  int64  \n",
      " 9   game                  36366 non-null  int64  \n",
      " 10  age_rating            36366 non-null  object \n",
      " 11  Parentalguidance      36366 non-null  int64  \n",
      " 12  Downloads             36366 non-null  int64  \n",
      " 13  categorygame          36366 non-null  object \n",
      " 14  price                 35407 non-null  float64\n",
      " 15  paidapp               36366 non-null  float64\n",
      " 16  rating                34943 non-null  float64\n",
      " 17  numberreviews         34943 non-null  float64\n",
      "dtypes: float64(4), int64(9), object(5)\n",
      "memory usage: 4.6+ MB\n"
     ]
    }
   ],
   "source": [
    "data.info()"
   ]
  },
  {
   "cell_type": "code",
   "execution_count": 28,
   "metadata": {},
   "outputs": [
    {
     "data": {
      "text/plain": [
       "array(['everyone', '18+', 'NaN', '16+', '12+', '7+'], dtype=object)"
      ]
     },
     "execution_count": 28,
     "metadata": {},
     "output_type": "execute_result"
    }
   ],
   "source": [
    "data.age_rating.unique()"
   ]
  },
  {
   "cell_type": "markdown",
   "metadata": {},
   "source": [
    "## 4. Find insights and Visualize"
   ]
  },
  {
   "cell_type": "markdown",
   "metadata": {},
   "source": [
    "### a)  Which category has the highest(and Lowest) share of apps in the market?"
   ]
  },
  {
   "cell_type": "markdown",
   "metadata": {},
   "source": [
    "we will vizualize the data to see which is the most popular category"
   ]
  },
  {
   "cell_type": "markdown",
   "metadata": {},
   "source": [
    "lets count the amount of each category in the data set"
   ]
  },
  {
   "cell_type": "code",
   "execution_count": 35,
   "metadata": {},
   "outputs": [
    {
     "name": "stdout",
     "output_type": "stream",
     "text": [
      "['internet browser' 'mail' 'dating' 'video players & editors'\n",
      " 'productivity' 'travel & local' 'finance' 'business' 'photography'\n",
      " 'social' 'medical' 'shopping' 'tools' 'communication' 'lifestyle'\n",
      " 'health & fitness' 'food & drink' 'weather' 'entertainment'\n",
      " 'music & audio' 'maps & navigation' 'news & magazines' 'house & home'\n",
      " 'sms' 'sports' 'mobilegame' 'personalization' 'education'\n",
      " 'books & reference' 'auto & vehicles' 'art & design' 'events'\n",
      " 'libraries & demo' 'dialer' 'parenting' 'beauty' 'comics' 'phonecall']\n",
      "\n",
      " the amount of unique categories is:  38\n"
     ]
    }
   ],
   "source": [
    "print(data.category.unique())\n",
    "print(\"\\n the amount of unique categories is: \", len(data.category.unique()))"
   ]
  },
  {
   "cell_type": "code",
   "execution_count": 36,
   "metadata": {
    "scrolled": true
   },
   "outputs": [
    {
     "data": {
      "text/html": [
       "<div>\n",
       "<style scoped>\n",
       "    .dataframe tbody tr th:only-of-type {\n",
       "        vertical-align: middle;\n",
       "    }\n",
       "\n",
       "    .dataframe tbody tr th {\n",
       "        vertical-align: top;\n",
       "    }\n",
       "\n",
       "    .dataframe thead th {\n",
       "        text-align: right;\n",
       "    }\n",
       "</style>\n",
       "<table border=\"1\" class=\"dataframe\">\n",
       "  <thead>\n",
       "    <tr style=\"text-align: right;\">\n",
       "      <th></th>\n",
       "      <th>appname</th>\n",
       "      <th>company</th>\n",
       "      <th>purchases</th>\n",
       "      <th>ads</th>\n",
       "      <th>sharesinfo</th>\n",
       "      <th>shareslocation</th>\n",
       "      <th>unrestrictedinternet</th>\n",
       "      <th>usersinteract</th>\n",
       "      <th>game</th>\n",
       "      <th>age_rating</th>\n",
       "      <th>Parentalguidance</th>\n",
       "      <th>Downloads</th>\n",
       "      <th>categorygame</th>\n",
       "      <th>price</th>\n",
       "      <th>paidapp</th>\n",
       "      <th>rating</th>\n",
       "      <th>numberreviews</th>\n",
       "    </tr>\n",
       "    <tr>\n",
       "      <th>category</th>\n",
       "      <th></th>\n",
       "      <th></th>\n",
       "      <th></th>\n",
       "      <th></th>\n",
       "      <th></th>\n",
       "      <th></th>\n",
       "      <th></th>\n",
       "      <th></th>\n",
       "      <th></th>\n",
       "      <th></th>\n",
       "      <th></th>\n",
       "      <th></th>\n",
       "      <th></th>\n",
       "      <th></th>\n",
       "      <th></th>\n",
       "      <th></th>\n",
       "      <th></th>\n",
       "    </tr>\n",
       "  </thead>\n",
       "  <tbody>\n",
       "    <tr>\n",
       "      <th>art &amp; design</th>\n",
       "      <td>163</td>\n",
       "      <td>163</td>\n",
       "      <td>163</td>\n",
       "      <td>163</td>\n",
       "      <td>163</td>\n",
       "      <td>163</td>\n",
       "      <td>163</td>\n",
       "      <td>163</td>\n",
       "      <td>163</td>\n",
       "      <td>163</td>\n",
       "      <td>163</td>\n",
       "      <td>163</td>\n",
       "      <td>163</td>\n",
       "      <td>163</td>\n",
       "      <td>163</td>\n",
       "      <td>146</td>\n",
       "      <td>146</td>\n",
       "    </tr>\n",
       "    <tr>\n",
       "      <th>auto &amp; vehicles</th>\n",
       "      <td>287</td>\n",
       "      <td>287</td>\n",
       "      <td>287</td>\n",
       "      <td>287</td>\n",
       "      <td>287</td>\n",
       "      <td>287</td>\n",
       "      <td>287</td>\n",
       "      <td>287</td>\n",
       "      <td>287</td>\n",
       "      <td>287</td>\n",
       "      <td>287</td>\n",
       "      <td>287</td>\n",
       "      <td>287</td>\n",
       "      <td>273</td>\n",
       "      <td>287</td>\n",
       "      <td>264</td>\n",
       "      <td>264</td>\n",
       "    </tr>\n",
       "    <tr>\n",
       "      <th>beauty</th>\n",
       "      <td>49</td>\n",
       "      <td>49</td>\n",
       "      <td>49</td>\n",
       "      <td>49</td>\n",
       "      <td>49</td>\n",
       "      <td>49</td>\n",
       "      <td>49</td>\n",
       "      <td>49</td>\n",
       "      <td>49</td>\n",
       "      <td>49</td>\n",
       "      <td>49</td>\n",
       "      <td>49</td>\n",
       "      <td>49</td>\n",
       "      <td>49</td>\n",
       "      <td>49</td>\n",
       "      <td>48</td>\n",
       "      <td>48</td>\n",
       "    </tr>\n",
       "    <tr>\n",
       "      <th>books &amp; reference</th>\n",
       "      <td>640</td>\n",
       "      <td>640</td>\n",
       "      <td>640</td>\n",
       "      <td>640</td>\n",
       "      <td>640</td>\n",
       "      <td>640</td>\n",
       "      <td>640</td>\n",
       "      <td>640</td>\n",
       "      <td>640</td>\n",
       "      <td>640</td>\n",
       "      <td>640</td>\n",
       "      <td>640</td>\n",
       "      <td>640</td>\n",
       "      <td>630</td>\n",
       "      <td>640</td>\n",
       "      <td>606</td>\n",
       "      <td>606</td>\n",
       "    </tr>\n",
       "    <tr>\n",
       "      <th>business</th>\n",
       "      <td>1187</td>\n",
       "      <td>1187</td>\n",
       "      <td>1187</td>\n",
       "      <td>1187</td>\n",
       "      <td>1187</td>\n",
       "      <td>1187</td>\n",
       "      <td>1187</td>\n",
       "      <td>1187</td>\n",
       "      <td>1187</td>\n",
       "      <td>1187</td>\n",
       "      <td>1187</td>\n",
       "      <td>1187</td>\n",
       "      <td>1187</td>\n",
       "      <td>1161</td>\n",
       "      <td>1187</td>\n",
       "      <td>1010</td>\n",
       "      <td>1010</td>\n",
       "    </tr>\n",
       "  </tbody>\n",
       "</table>\n",
       "</div>"
      ],
      "text/plain": [
       "                   appname  company  purchases   ads  sharesinfo  \\\n",
       "category                                                           \n",
       "art & design           163      163        163   163         163   \n",
       "auto & vehicles        287      287        287   287         287   \n",
       "beauty                  49       49         49    49          49   \n",
       "books & reference      640      640        640   640         640   \n",
       "business              1187     1187       1187  1187        1187   \n",
       "\n",
       "                   shareslocation  unrestrictedinternet  usersinteract  game  \\\n",
       "category                                                                       \n",
       "art & design                  163                   163            163   163   \n",
       "auto & vehicles               287                   287            287   287   \n",
       "beauty                         49                    49             49    49   \n",
       "books & reference             640                   640            640   640   \n",
       "business                     1187                  1187           1187  1187   \n",
       "\n",
       "                   age_rating  Parentalguidance  Downloads  categorygame  \\\n",
       "category                                                                   \n",
       "art & design              163               163        163           163   \n",
       "auto & vehicles           287               287        287           287   \n",
       "beauty                     49                49         49            49   \n",
       "books & reference         640               640        640           640   \n",
       "business                 1187              1187       1187          1187   \n",
       "\n",
       "                   price  paidapp  rating  numberreviews  \n",
       "category                                                  \n",
       "art & design         163      163     146            146  \n",
       "auto & vehicles      273      287     264            264  \n",
       "beauty                49       49      48             48  \n",
       "books & reference    630      640     606            606  \n",
       "business            1161     1187    1010           1010  "
      ]
     },
     "execution_count": 36,
     "metadata": {},
     "output_type": "execute_result"
    }
   ],
   "source": [
    "amount = data.groupby(\"category\").count()\n",
    "amount.head()"
   ]
  },
  {
   "cell_type": "markdown",
   "metadata": {},
   "source": [
    "All the values in the column are same indicating the number of apps in each category"
   ]
  },
  {
   "cell_type": "markdown",
   "metadata": {},
   "source": [
    "Visualizing the data:"
   ]
  },
  {
   "cell_type": "code",
   "execution_count": 37,
   "metadata": {},
   "outputs": [
    {
     "name": "stdout",
     "output_type": "stream",
     "text": [
      " Total Number of Unique App Categories: 38 \n",
      "\n"
     ]
    },
    {
     "data": {
      "text/plain": [
       "<function matplotlib.pyplot.show(close=None, block=None)>"
      ]
     },
     "execution_count": 37,
     "metadata": {},
     "output_type": "execute_result"
    },
    {
     "data": {
      "image/png": "[encoded data removed]",
      "text/plain": [
       "<Figure size 864x504 with 1 Axes>"
      ]
     },
     "metadata": {},
     "output_type": "display_data"
    }
   ],
   "source": [
    "sns.set(rc={'figure.figsize':(12,7)})\n",
    "### print the total number of unique categories\n",
    "number_of_categories = len(data['category'].unique())\n",
    "print(f\" Total Number of Unique App Categories: {number_of_categories}\",\"\\n\")\n",
    "\n",
    "#count the number of apps in each category and sort them in descending order\n",
    "num_of_apps_in_each_category =data[\"category\"].value_counts().sort_values(ascending= False)\n",
    "\n",
    "#plot the results\n",
    "plot_apps_in_categories = sns.barplot(\n",
    "    x = num_of_apps_in_each_category.index, #index =category name \n",
    "    y = num_of_apps_in_each_category.values #values = count for each category\n",
    "    )\n",
    "plot_apps_in_categories.set_xticklabels(plot_apps_in_categories.get_xticklabels(), rotation = 90,\n",
    "                                        horizontalalignment='center')\n",
    "plt.xlabel(xlabel= \"Categories\", fontsize = 16)\n",
    "plt.ylabel(ylabel= \" Number of apps available\", fontsize= 16)\n",
    "plt.title(\"Distribution of Apps among different Categories\", fontsize = 18)\n",
    "\n",
    "\n",
    "\n",
    "plt.show\n",
    "    "
   ]
  },
  {
   "cell_type": "markdown",
   "metadata": {},
   "source": [
    "#### Result:"
   ]
  },
  {
   "cell_type": "markdown",
   "metadata": {},
   "source": [
    "Among the 38 different categories in the google store as presented by the data, **Mobilegames, Tools and productivity apps**categotories are the top 3 highest in share of apps available.\n",
    "\n",
    "On the other hand **Dialer, sms and phonecall apps** categories have the fewest apps available for download"
   ]
  },
  {
   "cell_type": "markdown",
   "metadata": {},
   "source": [
    "### B. which categories of apps are the most (and respectively least) popular among end users."
   ]
  },
  {
   "cell_type": "markdown",
   "metadata": {},
   "source": [
    "we will consider the categories of apps with the most downloads in the google store from our data"
   ]
  },
  {
   "cell_type": "code",
   "execution_count": 48,
   "metadata": {},
   "outputs": [
    {
     "name": "stdout",
     "output_type": "stream",
     "text": [
      "category\n",
      "mobilegame                 45015\n",
      "tools                      19349\n",
      "productivity               13984\n",
      "communication               8650\n",
      "photography                 8390\n",
      "music & audio               6097\n",
      "entertainment               4930\n",
      "video players & editors     4413\n",
      "social                      4334\n",
      "news & magazines            3025\n",
      "personalization             2828\n",
      "health & fitness            2592\n",
      "internet browser            2459\n",
      "travel & local              2438\n",
      "shopping                    1979\n",
      "books & reference           1924\n",
      "business                    1557\n",
      "maps & navigation           1302\n",
      "lifestyle                   1211\n",
      "education                    985\n",
      "finance                      864\n",
      "mail                         819\n",
      "weather                      766\n",
      "sms                          531\n",
      "sports                       520\n",
      "dating                       431\n",
      "food & drink                 341\n",
      "auto & vehicles              288\n",
      "art & design                 224\n",
      "house & home                 139\n",
      "dialer                       132\n",
      "comics                       128\n",
      "beauty                       109\n",
      "medical                       99\n",
      "parenting                     60\n",
      "phonecall                     50\n",
      "libraries & demo              32\n",
      "events                         7\n",
      "Name: Downloads, dtype: int32\n"
     ]
    }
   ],
   "source": [
    "# Calculate the number of downloads  of all apps inside each category\n",
    "downloads_per_category = data.groupby(\"category\")[\"Downloads\"].sum().sort_values(ascending=False)\n",
    "#lets express them in million notation\n",
    "downloads_per_category_per_million = downloads_per_category.div(1000000).round().astype(int)\n",
    "print(downloads_per_category_per_million)"
   ]
  },
  {
   "cell_type": "code",
   "execution_count": 51,
   "metadata": {},
   "outputs": [
    {
     "data": {
      "image/png": "[encoded data removed]",
      "text/plain": [
       "<Figure size 1080x720 with 1 Axes>"
      ]
     },
     "metadata": {},
     "output_type": "display_data"
    }
   ],
   "source": [
    "# plot the results\n",
    "plot_popular_categories = downloads_per_category_per_million.plot(kind = \"bar\", \n",
    "                                                     x = downloads_per_category_per_million.index, # index = category name\n",
    "                                                     y = downloads_per_category_per_million.values, #value = sum of total downloads per each category\n",
    "                                                     figsize= (15,10))\n",
    "plot_popular_categories.set_xticklabels(plot_popular_categories.get_xticklabels(),\n",
    "                                        rotation =90, horizontalalignment = \"center\")\n",
    "plt.xlabel(xlabel = \"Categories\", fontsize = 14)\n",
    "plt.ylabel(ylabel= \"NUmber of total Downloads by users(In Millions)\", fontsize= 14)\n",
    "plt.title(\"Which categories are most popular among end users?\",fontsize= 14)\n",
    "\n",
    "plt.show()"
   ]
  },
  {
   "cell_type": "markdown",
   "metadata": {},
   "source": [
    "#### Result"
   ]
  },
  {
   "cell_type": "markdown",
   "metadata": {},
   "source": [
    "As the bar graph above suggests ***'Mobilegames', 'tools' and 'productivity'*** are the categories that experience the most demand from the consumer. \n",
    "\n",
    "Categories that fall into ***'Phonecalls', 'libraries & demo' and 'Events'*** have in general the lowest number of downloads"
   ]
  },
  {
   "cell_type": "markdown",
   "metadata": {},
   "source": [
    "### C. What is the average rating across all apps in the Google Play market?"
   ]
  },
  {
   "cell_type": "markdown",
   "metadata": {},
   "source": [
    "Lets see how this apps perform on average. Apps rating(on a scale of 1 to 5) directly affects the apps discoverability,\n",
    "its sustained presence on a customers phone as well as the company's over all brand image"
   ]
  },
  {
   "cell_type": "code",
   "execution_count": 53,
   "metadata": {},
   "outputs": [
    {
     "name": "stdout",
     "output_type": "stream",
     "text": [
      " mean app rating = 3.96\n",
      " median app rating = 4.1\n"
     ]
    }
   ],
   "source": [
    "# Average and median rating of apps\n",
    "\n",
    "mean = round(data[\"rating\"].mean(), 2)\n",
    "median = round(data[\"rating\"].median(), 2)\n",
    "\n",
    "print(f' mean app rating = {mean}', f' median app rating = {median}', sep ='\\n')\n"
   ]
  },
  {
   "cell_type": "code",
   "execution_count": 71,
   "metadata": {},
   "outputs": [
    {
     "data": {
      "image/png": "[encoded data removed]",
      "text/plain": [
       "<Figure size 864x504 with 1 Axes>"
      ]
     },
     "metadata": {},
     "output_type": "display_data"
    }
   ],
   "source": [
    "# distribution of apps according to there ratings\n",
    "rating_histogram = sns.histplot(data['rating'], kde= True )\n",
    "rating_histogram.axvline(mean, color = 'r', linestyle =\"--\")\n",
    "rating_histogram.axvline(median, color = 'g', linestyle =\"-\")\n",
    "plt.legend({\"Actual rating\": rating_histogram,\"Mean\": mean, \"Median\": median })\n",
    "plt.xlabel(\"Ratings\", fontsize = 14)\n",
    "plt.ylabel(\"Number of Apps\", fontsize = 14)\n",
    "plt.title(\"Dostribution of app ratings\", fontsize =18)\n",
    "\n",
    "plt.show()"
   ]
  },
  {
   "cell_type": "markdown",
   "metadata": {},
   "source": [
    "Based on this data, one can infer that the average rating across all app categories is **3.96** out of 5. The histogram plot is skewed to the left indicating that the majority of the apps are highly rated with only a few exceptions in the low-rated apps"
   ]
  },
  {
   "cell_type": "code",
   "execution_count": null,
   "metadata": {},
   "outputs": [],
   "source": []
  }
 ],
 "metadata": {
  "kernelspec": {
   "display_name": "Python 3",
   "language": "python",
   "name": "python3"
  },
  "language_info": {
   "codemirror_mode": {
    "name": "ipython",
    "version": 3
   },
   "file_extension": ".py",
   "mimetype": "text/x-python",
   "name": "python",
   "nbconvert_exporter": "python",
   "pygments_lexer": "ipython3",
   "version": "3.9.0"
  }
 },
 "nbformat": 4,
 "nbformat_minor": 4
}
